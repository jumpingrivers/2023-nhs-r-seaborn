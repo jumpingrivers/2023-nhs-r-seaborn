{
 "cells": [
  {
   "cell_type": "markdown",
   "id": "69423452",
   "metadata": {},
   "source": [
    "# Chapter 1 Exercises"
   ]
  },
  {
   "cell_type": "markdown",
   "id": "3a5ff435",
   "metadata": {},
   "source": [
    "Not all questions will require you to write code, you will be able to write\n",
    "your answers in the appropriate places. For code answers, write them out into\n",
    "the code cells provided.\n",
    "\n",
    "If you need help:\n",
    "\n",
    "* Look back through [chapter1/1-demo.ipynb](1-demo.ipynb)\n",
    "\n",
    "* Ask for help from your trainer (unmute, message, or private message)"
   ]
  },
  {
   "cell_type": "markdown",
   "id": "44234c31",
   "metadata": {},
   "source": [
    "### Q1)"
   ]
  },
  {
   "cell_type": "markdown",
   "id": "9cdc471f",
   "metadata": {},
   "source": [
    "In this question you will create some scatter and line plots using the health\n",
    "expenditure data, which can be loaded by running:"
   ]
  },
  {
   "cell_type": "code",
   "execution_count": null,
   "id": "bbc6d3bd",
   "metadata": {
    "lines_to_next_cell": 2
   },
   "outputs": [],
   "source": [
    "import seaborn as sns\n",
    "\n",
    "data = sns.load_dataset(\"healthexp\")\n",
    "data.head()"
   ]
  },
  {
   "cell_type": "markdown",
   "id": "420efef4",
   "metadata": {},
   "source": [
    "### Q1a)"
   ]
  },
  {
   "cell_type": "markdown",
   "id": "3c999055",
   "metadata": {},
   "source": [
    "First, set the seaborn theme for your plots by running the code below.\n"
   ]
  },
  {
   "cell_type": "code",
   "execution_count": null,
   "id": "5c64196e",
   "metadata": {
    "lines_to_next_cell": 2
   },
   "outputs": [],
   "source": [
    "sns.set_theme()"
   ]
  },
  {
   "cell_type": "markdown",
   "id": "72aca767",
   "metadata": {},
   "source": [
    "### Q1b)"
   ]
  },
  {
   "cell_type": "markdown",
   "id": "26322343",
   "metadata": {},
   "source": [
    "Using seaborn, create a scatter plot showing `Life_Expectancy` (on the $y$-axis)\n",
    "against `Year` (on the $x$-axis).\n"
   ]
  },
  {
   "cell_type": "code",
   "execution_count": null,
   "id": "6e162c9d",
   "metadata": {
    "lines_to_next_cell": 2
   },
   "outputs": [],
   "source": [
    "# Your Q1b) code here"
   ]
  },
  {
   "cell_type": "markdown",
   "id": "d23c4cc9",
   "metadata": {},
   "source": [
    "### Q1c)"
   ]
  },
  {
   "cell_type": "markdown",
   "id": "bb306ec3",
   "metadata": {},
   "source": [
    "Now update the colour and shape of the data points based on `Country`.\n"
   ]
  },
  {
   "cell_type": "code",
   "execution_count": null,
   "id": "dd9840c0",
   "metadata": {
    "lines_to_next_cell": 2
   },
   "outputs": [],
   "source": [
    "# Your Q1c) code here"
   ]
  },
  {
   "cell_type": "markdown",
   "id": "bc563d41",
   "metadata": {},
   "source": [
    "### Q1d)"
   ]
  },
  {
   "cell_type": "markdown",
   "id": "80b8be32",
   "metadata": {},
   "source": [
    "The code below will generate a subset of the data for Great Britain:\n"
   ]
  },
  {
   "cell_type": "code",
   "execution_count": null,
   "id": "93d5eebc",
   "metadata": {
    "lines_to_next_cell": 2
   },
   "outputs": [],
   "source": [
    "gb = data[data[\"Country\"] == \"Great Britain\"]"
   ]
  },
  {
   "cell_type": "markdown",
   "id": "f305d4a8",
   "metadata": {},
   "source": [
    "With this data, use Seaborn to create a scatter plot of the `Life_Expectancy` in\n",
    "Great Britain against time (`Year`). Then resize the data points in your plot based on\n",
    "the annual health expenditure (`Spending_USD`)."
   ]
  },
  {
   "cell_type": "markdown",
   "id": "5149ea9d",
   "metadata": {},
   "source": [
    "*Hint*: use the `size` argument to vary the point size.\n"
   ]
  },
  {
   "cell_type": "code",
   "execution_count": null,
   "id": "88b754b6",
   "metadata": {
    "lines_to_next_cell": 2
   },
   "outputs": [],
   "source": [
    "# Your Q1d) code here"
   ]
  },
  {
   "cell_type": "markdown",
   "id": "0338e3b9",
   "metadata": {},
   "source": [
    "### Q1e)"
   ]
  },
  {
   "cell_type": "markdown",
   "id": "f1641ffc",
   "metadata": {},
   "source": [
    "Using the \"full\" dataset again (not just data relating to Great Britain),\n",
    "create a line plot showing the average health expenditure (`Spending_USD`) \n",
    "over time (`Year`).\n",
    "\n",
    "Use a shaded region to indicate the standard deviation.\n"
   ]
  },
  {
   "cell_type": "code",
   "execution_count": null,
   "id": "9aca13ce",
   "metadata": {
    "lines_to_next_cell": 2
   },
   "outputs": [],
   "source": [
    "# Your Q1e) code here"
   ]
  },
  {
   "cell_type": "markdown",
   "id": "8d96acf8",
   "metadata": {},
   "source": [
    "### Q1f)"
   ]
  },
  {
   "cell_type": "markdown",
   "id": "8b028186",
   "metadata": {},
   "source": [
    "Create another line plot showing the health expenditure (`Spending_USD`) \n",
    "against time (`Year`) for each `Country`. \n",
    "\n",
    "Use a distinct line style/colour for each country.\n"
   ]
  },
  {
   "cell_type": "code",
   "execution_count": null,
   "id": "abe9a144",
   "metadata": {
    "lines_to_next_cell": 2
   },
   "outputs": [],
   "source": [
    "# Your Q1f) code here"
   ]
  },
  {
   "cell_type": "markdown",
   "id": "84739a69",
   "metadata": {},
   "source": [
    "### Solutions"
   ]
  },
  {
   "cell_type": "markdown",
   "id": "c9bdc4bf",
   "metadata": {},
   "source": [
    "Got to the end early? Want to check your solutions?\n",
    "\n",
    "Your trainer will be going over the solutions shortly.\n",
    "\n",
    "However, in the meanwhile, you can view the solutions to these exercises\n",
    "[here](1-exercises-solutions.ipynb).\n"
   ]
  }
 ],
 "metadata": {
  "jupytext": {
   "cell_metadata_filter": "-all",
   "main_language": "python",
   "notebook_metadata_filter": "-all"
  }
 },
 "nbformat": 4,
 "nbformat_minor": 5
}

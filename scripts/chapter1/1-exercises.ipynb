{
 "cells": [
  {
   "cell_type": "markdown",
   "id": "dccac942",
   "metadata": {},
   "source": [
    "# Chapter 1 Exercises"
   ]
  },
  {
   "cell_type": "markdown",
   "id": "8c1ef52d",
   "metadata": {},
   "source": [
    "Not all questions will require you to write code, you will be able to write\n",
    "your answers in the appropriate places. For code answers, write them out into\n",
    "the code cells provided.\n",
    "\n",
    "If you need help:\n",
    "\n",
    "* Look back through [chapter1/1-demo.ipynb](1-demo.ipynb)\n",
    "\n",
    "* Ask for help from your trainer (unmute, message, or private message)"
   ]
  },
  {
   "cell_type": "markdown",
   "id": "875c9e36",
   "metadata": {},
   "source": [
    "### Q1)"
   ]
  },
  {
   "cell_type": "markdown",
   "id": "02124717",
   "metadata": {},
   "source": [
    "In this question you will create some scatter and line plots using the health\n",
    "expenditure data, which can be loaded by running:"
   ]
  },
  {
   "cell_type": "code",
   "execution_count": null,
   "id": "e6d3a1bf",
   "metadata": {
    "lines_to_next_cell": 2
   },
   "outputs": [],
   "source": [
    "import seaborn as sns\n",
    "\n",
    "data = sns.load_dataset(\"healthexp\")\n",
    "data.head()"
   ]
  },
  {
   "cell_type": "markdown",
   "id": "4f3408da",
   "metadata": {},
   "source": [
    "### Q1a)"
   ]
  },
  {
   "cell_type": "markdown",
   "id": "047a98d3",
   "metadata": {},
   "source": [
    "First, set the seaborn theme for your plots by running the code below.\n"
   ]
  },
  {
   "cell_type": "code",
   "execution_count": null,
   "id": "67c511ce",
   "metadata": {
    "lines_to_next_cell": 2
   },
   "outputs": [],
   "source": [
    "sns.set_theme()"
   ]
  },
  {
   "cell_type": "markdown",
   "id": "1f3ce3b8",
   "metadata": {},
   "source": [
    "### Q1b)"
   ]
  },
  {
   "cell_type": "markdown",
   "id": "d5a9bf55",
   "metadata": {},
   "source": [
    "Using seaborn, create a scatter plot showing `Life_Expectancy` (on the $y$-axis)\n",
    "against `Year` (on the $x$-axis).\n"
   ]
  },
  {
   "cell_type": "code",
   "execution_count": null,
   "id": "34416edf",
   "metadata": {
    "lines_to_next_cell": 2
   },
   "outputs": [],
   "source": [
    "# Your Q1b) code here"
   ]
  },
  {
   "cell_type": "markdown",
   "id": "9daca9c5",
   "metadata": {},
   "source": [
    "### Q1c)"
   ]
  },
  {
   "cell_type": "markdown",
   "id": "674cbf1d",
   "metadata": {},
   "source": [
    "Now update the colour and shape of the data points based on `Country`.\n"
   ]
  },
  {
   "cell_type": "code",
   "execution_count": null,
   "id": "91527806",
   "metadata": {
    "lines_to_next_cell": 2
   },
   "outputs": [],
   "source": [
    "# Your Q1c) code here"
   ]
  },
  {
   "cell_type": "markdown",
   "id": "073ed52a",
   "metadata": {},
   "source": [
    "### Q1d)"
   ]
  },
  {
   "cell_type": "markdown",
   "id": "3349e373",
   "metadata": {},
   "source": [
    "The code below will generate a subset of the data for Great Britain:\n"
   ]
  },
  {
   "cell_type": "code",
   "execution_count": null,
   "id": "13346d5a",
   "metadata": {
    "lines_to_next_cell": 2
   },
   "outputs": [],
   "source": [
    "gb = data[data[\"Country\"] == \"Great Britain\"]"
   ]
  },
  {
   "cell_type": "markdown",
   "id": "b892dc65",
   "metadata": {},
   "source": [
    "With this data, use Seaborn to create a scatter plot of the `Life_Expectancy` in\n",
    "Great Britain against time (`Year`). Then resize the data points in your plot based on\n",
    "the annual health expenditure (`Spending_USD`)."
   ]
  },
  {
   "cell_type": "markdown",
   "id": "d2aefe35",
   "metadata": {},
   "source": [
    "*Hint*: use the `size` argument to vary the point size.\n"
   ]
  },
  {
   "cell_type": "code",
   "execution_count": null,
   "id": "53c2c598",
   "metadata": {
    "lines_to_next_cell": 2
   },
   "outputs": [],
   "source": [
    "# Your Q1d) code here"
   ]
  },
  {
   "cell_type": "markdown",
   "id": "b5798463",
   "metadata": {},
   "source": [
    "### Q1e)"
   ]
  },
  {
   "cell_type": "markdown",
   "id": "51e20e83",
   "metadata": {},
   "source": [
    "Using the \"full\" dataset again (not just data relating to Great Britain),\n",
    "create a line plot showing the average health expenditure (`Spending_USD`) \n",
    "over time (`Year`).\n",
    "\n",
    "Use a shaded region to indicate the standard deviation.\n"
   ]
  },
  {
   "cell_type": "code",
   "execution_count": null,
   "id": "227e853a",
   "metadata": {
    "lines_to_next_cell": 2
   },
   "outputs": [],
   "source": [
    "# Your Q1e) code here"
   ]
  },
  {
   "cell_type": "markdown",
   "id": "839b452c",
   "metadata": {},
   "source": [
    "### Q1f)"
   ]
  },
  {
   "cell_type": "markdown",
   "id": "e010764b",
   "metadata": {},
   "source": [
    "Create another line plot showing the health expenditure (`Spending_USD`) \n",
    "against time (`Year`) for each `Country`. \n",
    "\n",
    "Use a distinct line style/colour for each country.\n"
   ]
  },
  {
   "cell_type": "code",
   "execution_count": null,
   "id": "06a4e412",
   "metadata": {
    "lines_to_next_cell": 2
   },
   "outputs": [],
   "source": [
    "# Your Q1f) code here"
   ]
  },
  {
   "cell_type": "markdown",
   "id": "2d2d51ad",
   "metadata": {},
   "source": [
    "### Solutions"
   ]
  },
  {
   "cell_type": "markdown",
   "id": "32bdbb0e",
   "metadata": {},
   "source": [
    "Got to the end early? Want to check your solutions?\n",
    "\n",
    "Your trainer will be going over the solutions shortly.\n",
    "\n",
    "However, in the meanwhile, you can view the solutions to these exercises\n",
    "[here](1-exercises-solutions.ipynb).\n"
   ]
  }
 ],
 "metadata": {
  "jupytext": {
   "cell_metadata_filter": "-all",
   "main_language": "python",
   "notebook_metadata_filter": "-all"
  }
 },
 "nbformat": 4,
 "nbformat_minor": 5
}

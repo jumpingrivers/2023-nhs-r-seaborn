{
 "cells": [
  {
   "cell_type": "markdown",
   "id": "46abdcf8",
   "metadata": {},
   "source": [
    "# 1 Plotting with Seaborn"
   ]
  },
  {
   "cell_type": "markdown",
   "id": "74c6ade3",
   "metadata": {},
   "source": [
    "Seaborn is a data visualisation library for Python which builds on the\n",
    "matplotlib package.\n",
    "\n",
    "It is designed primarily with data exploration in mind. In particular:\n",
    "\n",
    "- Seaborn integrates much more closely with pandas data structures\n",
    "- It is capable of performing operations on entire datasets\n",
    "- Its visualisation functions are designed to quickly produce detailed and\n",
    "  informative statistical plots with few lines of code."
   ]
  },
  {
   "cell_type": "markdown",
   "id": "9568a9d7",
   "metadata": {},
   "source": [
    "When importing seaborn, the convention is to use the alias `sns`:\n"
   ]
  },
  {
   "cell_type": "code",
   "execution_count": null,
   "id": "213a4d60",
   "metadata": {
    "lines_to_next_cell": 2
   },
   "outputs": [],
   "source": [
    "import seaborn as sns"
   ]
  },
  {
   "cell_type": "markdown",
   "id": "d33d6d83",
   "metadata": {},
   "source": [
    "## 1.1 Basic plots"
   ]
  },
  {
   "cell_type": "markdown",
   "id": "800dc26c",
   "metadata": {},
   "source": [
    "Before we can start making plots, we need some data! Let's load in the \"iris\"\n",
    "dataset:\n"
   ]
  },
  {
   "cell_type": "code",
   "execution_count": null,
   "id": "b28d1d15",
   "metadata": {
    "lines_to_next_cell": 2
   },
   "outputs": [],
   "source": [
    "iris = sns.load_dataset(\"iris\")\n",
    "iris.head()"
   ]
  },
  {
   "cell_type": "markdown",
   "id": "1bdbc2a6",
   "metadata": {},
   "source": [
    "### Scatter plots"
   ]
  },
  {
   "cell_type": "markdown",
   "id": "c708a2b9",
   "metadata": {},
   "source": [
    "We will begin with a basic scatter plot of petal length versus sepal length:\n"
   ]
  },
  {
   "cell_type": "code",
   "execution_count": null,
   "id": "da8b9b77",
   "metadata": {
    "lines_to_next_cell": 2
   },
   "outputs": [],
   "source": [
    "sns.scatterplot(\n",
    "    data=iris,\n",
    "    x=\"sepal_length\",\n",
    "    y=\"petal_length\",\n",
    ")"
   ]
  },
  {
   "cell_type": "markdown",
   "id": "60cc44c4",
   "metadata": {},
   "source": [
    "Notice how seaborn is able to set the axis labels using the column names, so it\n",
    "is not necessary to specify the labels manually!"
   ]
  },
  {
   "cell_type": "markdown",
   "id": "f772aa20",
   "metadata": {},
   "source": [
    "With seaborn, we are able to control the formatting of the markers using the data:\n"
   ]
  },
  {
   "cell_type": "code",
   "execution_count": null,
   "id": "f4fe520c",
   "metadata": {
    "lines_to_next_cell": 2
   },
   "outputs": [],
   "source": [
    "sns.scatterplot(\n",
    "    data=iris,\n",
    "    x=\"sepal_length\",\n",
    "    y=\"petal_length\",\n",
    "    hue=\"species\",\n",
    "    style=\"species\",\n",
    ")"
   ]
  },
  {
   "cell_type": "markdown",
   "id": "1f03159d",
   "metadata": {},
   "source": [
    "Seaborn also takes care of the legend, giving us a lovely detailed scatter plot\n",
    "with just a single function call!"
   ]
  },
  {
   "cell_type": "markdown",
   "id": "0514eced",
   "metadata": {},
   "source": [
    "We can also set a theme with seaborn. Running `sns.set_theme()` will set all\n",
    "subsequent figures to seaborn's \"default\" theme:\n"
   ]
  },
  {
   "cell_type": "code",
   "execution_count": null,
   "id": "02153b45",
   "metadata": {},
   "outputs": [],
   "source": [
    "sns.set_theme()  # sets all figures to the default theme"
   ]
  },
  {
   "cell_type": "code",
   "execution_count": null,
   "id": "cf01fef9",
   "metadata": {
    "lines_to_next_cell": 2
   },
   "outputs": [],
   "source": [
    "sns.scatterplot(\n",
    "    data=iris,\n",
    "    x=\"sepal_length\",\n",
    "    y=\"petal_length\",\n",
    "    hue=\"species\",\n",
    "    style=\"species\",\n",
    ")"
   ]
  },
  {
   "cell_type": "markdown",
   "id": "235db55a",
   "metadata": {},
   "source": [
    "This can be undone by running `sns.reset_orig()`:"
   ]
  },
  {
   "cell_type": "markdown",
   "id": "b61f9373",
   "metadata": {},
   "source": [
    "### Line plots"
   ]
  },
  {
   "cell_type": "markdown",
   "id": "bb5aebf8",
   "metadata": {},
   "source": [
    "To demonstrate line plots, let's first load in another dataset:\n"
   ]
  },
  {
   "cell_type": "code",
   "execution_count": null,
   "id": "b53c2302",
   "metadata": {
    "lines_to_next_cell": 2
   },
   "outputs": [],
   "source": [
    "flights = sns.load_dataset(\"flights\")\n",
    "flights.head()"
   ]
  },
  {
   "cell_type": "markdown",
   "id": "e2eeab08",
   "metadata": {},
   "source": [
    "This time we will call the `lineplot()` function:\n"
   ]
  },
  {
   "cell_type": "code",
   "execution_count": null,
   "id": "ced4588d",
   "metadata": {
    "lines_to_next_cell": 2
   },
   "outputs": [],
   "source": [
    "sns.lineplot(data=flights, x=\"year\", y=\"passengers\")"
   ]
  },
  {
   "cell_type": "markdown",
   "id": "16bc750d",
   "metadata": {},
   "source": [
    "In addition to a solid line, we also get a shaded error region which, by\n",
    "default, represents the 95% confidence interval."
   ]
  },
  {
   "cell_type": "markdown",
   "id": "b8176ee7",
   "metadata": {},
   "source": [
    "To remove the error region, we just need to include the argument `ci=None`.\n",
    "Alternatively we could set `ci` to an integer to get a specific percentile\n",
    "range, or `\"sd\"` to display the standard deviation:\n"
   ]
  },
  {
   "cell_type": "code",
   "execution_count": null,
   "id": "73ff048f",
   "metadata": {
    "lines_to_next_cell": 2
   },
   "outputs": [],
   "source": [
    "sns.lineplot(\n",
    "    data=flights,\n",
    "    x=\"year\",\n",
    "    y=\"passengers\",\n",
    "    ci=\"sd\",\n",
    ")"
   ]
  },
  {
   "cell_type": "markdown",
   "id": "d53e65c5",
   "metadata": {},
   "source": [
    "We can also control the line style, colour, etc using the data. For example:\n"
   ]
  },
  {
   "cell_type": "code",
   "execution_count": null,
   "id": "2e10fe6a",
   "metadata": {
    "lines_to_next_cell": 2
   },
   "outputs": [],
   "source": [
    "sns.lineplot(\n",
    "    data=flights,\n",
    "    x=\"year\",\n",
    "    y=\"passengers\",\n",
    "    hue=\"month\",\n",
    "    style=\"month\",\n",
    ")"
   ]
  },
  {
   "cell_type": "markdown",
   "id": "15921e7b",
   "metadata": {},
   "source": [
    "## Exercises Q1"
   ]
  },
  {
   "cell_type": "markdown",
   "id": "4194b464",
   "metadata": {},
   "source": [
    "Please complete *Q1* of [this exercise sheet](1-exercises.ipynb#Q1\\))"
   ]
  },
  {
   "cell_type": "markdown",
   "id": "5ba3e936",
   "metadata": {},
   "source": [
    "## 1.2 Seaborn vs matplotlib"
   ]
  },
  {
   "cell_type": "markdown",
   "id": "ce5ea132",
   "metadata": {},
   "source": [
    "Let's motivate why we believe that seaborn is a good choice for statistical\n",
    "visualisations!\n",
    "\n",
    "To do this, we will create a basic regression plot with seaborn and attempt to\n",
    "replicate it with matplotlib."
   ]
  },
  {
   "cell_type": "markdown",
   "id": "9933c692",
   "metadata": {},
   "source": [
    "### Example: scatter plot with a trend line"
   ]
  },
  {
   "cell_type": "markdown",
   "id": "8815c02e",
   "metadata": {},
   "source": [
    "Let's make a basic scatter plot and overlay with a linear trend line. This is\n",
    "trivial with seaborn:\n"
   ]
  },
  {
   "cell_type": "code",
   "execution_count": null,
   "id": "ed8ad001",
   "metadata": {
    "lines_to_next_cell": 2
   },
   "outputs": [],
   "source": [
    "sns.regplot(data=iris, x=\"sepal_length\", y=\"petal_length\")"
   ]
  },
  {
   "cell_type": "markdown",
   "id": "8bbb0a05",
   "metadata": {},
   "source": [
    "Now let's see ho to make a similar figure with matplotlib:\n"
   ]
  },
  {
   "cell_type": "code",
   "execution_count": null,
   "id": "2530f3ba",
   "metadata": {
    "lines_to_next_cell": 2
   },
   "outputs": [],
   "source": [
    "import matplotlib.pyplot as plt\n",
    "import numpy as np\n",
    "\n",
    "# Calculate the linear relationship\n",
    "x, y = iris[\"sepal_length\"], iris[\"petal_length\"]\n",
    "lin = np.polyfit(x, y, 1)\n",
    "pred = np.poly1d(lin)\n",
    "\n",
    "# Generate the plot\n",
    "plt.scatter(x, y)\n",
    "plt.plot(x, pred(x))\n",
    "plt.xlabel(\"sepal_length\")\n",
    "plt.ylabel(\"petal_length\")\n",
    "\n",
    "plt.show()"
   ]
  },
  {
   "cell_type": "markdown",
   "id": "de4f075b",
   "metadata": {},
   "source": [
    "We've used a lot more code, and don't even have a shaded confidence interval!\n",
    "\n",
    "This highlights a number of drawbacks with solely using matplotlib:"
   ]
  },
  {
   "cell_type": "markdown",
   "id": "9b5fb5e8",
   "metadata": {},
   "source": [
    "- Matplotlib has no regression functionality, so we have to calculate the linear\n",
    "  model separately\n",
    "- The data points and the trend line have to be added via separate function\n",
    "  calls\n",
    "- Matplotlib has no functionality for plotting straight from a `DataFrame`\n",
    "- Because matplotlib cannot access the `DataFrame` labels, we have to supply the\n",
    "  axis labels manually"
   ]
  },
  {
   "cell_type": "markdown",
   "id": "60e21a5a",
   "metadata": {},
   "source": [
    "### Why use matplotlib?"
   ]
  },
  {
   "cell_type": "markdown",
   "id": "b74f482d",
   "metadata": {},
   "source": [
    "If all you want is a quick statistical plot to visualise and explore your data,\n",
    "seaborn is probably the better choice."
   ]
  },
  {
   "cell_type": "markdown",
   "id": "76d4b045",
   "metadata": {},
   "source": [
    "However, seaborn actually *wraps around* matplotlib! The `sns.regplot()`\n",
    "function is just a wrapper designed to give us a detailed statistical\n",
    "visualisation with much shorter code."
   ]
  },
  {
   "cell_type": "markdown",
   "id": "4eb10e54",
   "metadata": {},
   "source": [
    "We have also seen that matplotlib is excellent for customisation and\n",
    "fine-tuning of figures.\n",
    "\n",
    "So it is generally helpful to work with _both_ libraries when creating\n",
    "statistical visualisations!"
   ]
  },
  {
   "cell_type": "markdown",
   "id": "5039a746",
   "metadata": {},
   "source": [
    "## 1.3 Customising seaborn figures with matplotlib"
   ]
  },
  {
   "cell_type": "markdown",
   "id": "ff87d64b",
   "metadata": {},
   "source": [
    "Because seaborn is built on top of matplotlib, we are able to work with both\n",
    "libraries simultaneously.\n",
    "\n",
    "For example, we can initialise a figure using matplotlib, then modify the\n",
    "figure using seaborn."
   ]
  },
  {
   "cell_type": "markdown",
   "id": "df23a18c",
   "metadata": {},
   "source": [
    "### Example: scatter plot with a trend line"
   ]
  },
  {
   "cell_type": "markdown",
   "id": "f64e4ae5",
   "metadata": {},
   "source": [
    "First, let's select a more visually-appealing style using matplotlib:\n"
   ]
  },
  {
   "cell_type": "code",
   "execution_count": null,
   "id": "d0a256b9",
   "metadata": {
    "lines_to_next_cell": 2
   },
   "outputs": [],
   "source": [
    "plt.style.use(\"seaborn-v0_8\")"
   ]
  },
  {
   "cell_type": "markdown",
   "id": "7f2b6821",
   "metadata": {},
   "source": [
    "Selecting the \"seaborn\" style sheet will set all figures to seaborn's default\n",
    "theme which we saw earlier with `sns.set_theme()`."
   ]
  },
  {
   "cell_type": "markdown",
   "id": "30c62906",
   "metadata": {},
   "source": [
    "Let's now reproduce our regression plot using a combination of matplotlib's\n",
    "object-oriented interface and seaborn's `regplot()` function."
   ]
  },
  {
   "cell_type": "markdown",
   "id": "3518b045",
   "metadata": {},
   "source": [
    "### Aside: Matplotlib's Object Oriented (OO) interface"
   ]
  },
  {
   "cell_type": "markdown",
   "id": "8e72a5af",
   "metadata": {},
   "source": [
    "With Matplotlib's Object-Oriented interface, it is much easier to keep track \n",
    "of what and where we are plotting."
   ]
  },
  {
   "cell_type": "markdown",
   "id": "cd6bee15",
   "metadata": {},
   "source": [
    "To create a plot with the OO interface we first create an instance of the `Figure` class.\n"
   ]
  },
  {
   "cell_type": "code",
   "execution_count": null,
   "id": "4d65c782",
   "metadata": {
    "lines_to_next_cell": 2
   },
   "outputs": [],
   "source": [
    "fig = plt.figure(figsize=(6, 4))"
   ]
  },
  {
   "cell_type": "markdown",
   "id": "8bee6fe3",
   "metadata": {},
   "source": [
    "We then need to add a set of axes to the figure. If we wish to create an `Axes` \n",
    "that occupies the entire `Figure` we can use a shorthand.\n"
   ]
  },
  {
   "cell_type": "code",
   "execution_count": null,
   "id": "bfc6bd6d",
   "metadata": {
    "lines_to_next_cell": 2
   },
   "outputs": [],
   "source": [
    "fig, ax = plt.subplots(figsize=(6, 4))"
   ]
  },
  {
   "cell_type": "markdown",
   "id": "74e9b305",
   "metadata": {},
   "source": [
    "### Back to our example..."
   ]
  },
  {
   "cell_type": "markdown",
   "id": "698e6260",
   "metadata": {},
   "source": [
    "To add seaborn's regression plot to our matplotlib figure, we just need to\n",
    "specify an `ax` argument when calling `sns.regplot()`:\n"
   ]
  },
  {
   "cell_type": "code",
   "execution_count": null,
   "id": "74f0c91b",
   "metadata": {
    "lines_to_next_cell": 2
   },
   "outputs": [],
   "source": [
    "fig, ax = plt.subplots(figsize=(5, 6))\n",
    "sns.regplot(\n",
    "    data=iris,\n",
    "    x=\"sepal_length\",\n",
    "    y=\"petal_length\",\n",
    "    ax=ax,\n",
    ")\n",
    "ax.set_xlabel(\"Sepal length\")\n",
    "ax.set_ylabel(\"Petal length\")"
   ]
  },
  {
   "cell_type": "markdown",
   "id": "74391118",
   "metadata": {},
   "source": [
    "### Standard workflow"
   ]
  },
  {
   "cell_type": "markdown",
   "id": "5a78b29a",
   "metadata": {},
   "source": [
    "The previous examples motivate a sensible workflow when working with seaborn:"
   ]
  },
  {
   "cell_type": "markdown",
   "id": "1f109020",
   "metadata": {},
   "source": [
    "1. Set a style using matplotlib\n",
    "2. Initialise the figure using matplotlib's object-oriented interface\n",
    "3. Insert the desired statistical visualisations using seaborn\n",
    "4. Customise and fine-tune the figure using matplotlib"
   ]
  },
  {
   "cell_type": "markdown",
   "id": "c37eb7f1",
   "metadata": {},
   "source": [
    "[Next Chapter >>>](../chapter2/2-demo.ipynb)\n",
    "\n"
   ]
  }
 ],
 "metadata": {
  "jupytext": {
   "cell_metadata_filter": "-all",
   "main_language": "python",
   "notebook_metadata_filter": "-all"
  }
 },
 "nbformat": 4,
 "nbformat_minor": 5
}

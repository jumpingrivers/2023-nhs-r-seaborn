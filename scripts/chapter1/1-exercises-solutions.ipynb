{
 "cells": [
  {
   "cell_type": "markdown",
   "id": "7d932100",
   "metadata": {},
   "source": [
    "# Chapter 1 Exercise solutions\n",
    "\n"
   ]
  },
  {
   "cell_type": "markdown",
   "id": "a3417148",
   "metadata": {},
   "source": [
    "### Q1)"
   ]
  },
  {
   "cell_type": "markdown",
   "id": "062733f5",
   "metadata": {},
   "source": [
    "In this question you will create some scatter and line plots using the health\n",
    "expenditure data, which can be loaded by running:"
   ]
  },
  {
   "cell_type": "code",
   "execution_count": null,
   "id": "7ac787f0",
   "metadata": {
    "lines_to_next_cell": 2
   },
   "outputs": [],
   "source": [
    "import seaborn as sns\n",
    "\n",
    "data = sns.load_dataset(\"healthexp\")\n",
    "data.head()"
   ]
  },
  {
   "cell_type": "markdown",
   "id": "698afc90",
   "metadata": {},
   "source": [
    "### Q1a)"
   ]
  },
  {
   "cell_type": "markdown",
   "id": "5f1e3f93",
   "metadata": {},
   "source": [
    "First, set the seaborn theme for your plots by running the code below.\n"
   ]
  },
  {
   "cell_type": "code",
   "execution_count": null,
   "id": "22710052",
   "metadata": {
    "lines_to_next_cell": 2
   },
   "outputs": [],
   "source": [
    "sns.set_theme()"
   ]
  },
  {
   "cell_type": "markdown",
   "id": "a176240d",
   "metadata": {},
   "source": [
    "### Q1b)"
   ]
  },
  {
   "cell_type": "markdown",
   "id": "e64c6bc1",
   "metadata": {},
   "source": [
    "Using seaborn, create a scatter plot showing `Life_Expectancy` (on the $y$-axis)\n",
    "against `Year` (on the $x$-axis).\n"
   ]
  },
  {
   "cell_type": "code",
   "execution_count": null,
   "id": "f923a1bc",
   "metadata": {
    "lines_to_next_cell": 2
   },
   "outputs": [],
   "source": [
    "# Your Q1b) code here\n",
    "sns.scatterplot(data=data, x=\"Year\", y=\"Life_Expectancy\")"
   ]
  },
  {
   "cell_type": "markdown",
   "id": "5490e135",
   "metadata": {},
   "source": [
    "### Q1c)"
   ]
  },
  {
   "cell_type": "markdown",
   "id": "684b202a",
   "metadata": {},
   "source": [
    "Now update the colour and shape of the data points based on `Country`.\n"
   ]
  },
  {
   "cell_type": "code",
   "execution_count": null,
   "id": "fc4926bb",
   "metadata": {
    "lines_to_next_cell": 2
   },
   "outputs": [],
   "source": [
    "# Your Q1c) code here\n",
    "sns.scatterplot(\n",
    "    data=data,\n",
    "    x=\"Year\",\n",
    "    y=\"Life_Expectancy\",\n",
    "    hue=\"Country\",\n",
    "    style=\"Country\",\n",
    ")"
   ]
  },
  {
   "cell_type": "markdown",
   "id": "6da375c4",
   "metadata": {},
   "source": [
    "### Q1d)"
   ]
  },
  {
   "cell_type": "markdown",
   "id": "d1178182",
   "metadata": {},
   "source": [
    "The code below will generate a subset of the data for Great Britain:\n"
   ]
  },
  {
   "cell_type": "code",
   "execution_count": null,
   "id": "54ab875f",
   "metadata": {
    "lines_to_next_cell": 2
   },
   "outputs": [],
   "source": [
    "gb = data[data[\"Country\"] == \"Great Britain\"]"
   ]
  },
  {
   "cell_type": "markdown",
   "id": "c6286235",
   "metadata": {},
   "source": [
    "With this data, use Seaborn to create a scatter plot of the `Life_Expectancy` in\n",
    "Great Britain against time (`Year`). Then resize the data points in your plot based on\n",
    "the annual health expenditure (`Spending_USD`)."
   ]
  },
  {
   "cell_type": "markdown",
   "id": "72415379",
   "metadata": {},
   "source": [
    "*Hint*: use the `size` argument to vary the point size.\n"
   ]
  },
  {
   "cell_type": "code",
   "execution_count": null,
   "id": "f3dc23e7",
   "metadata": {
    "lines_to_next_cell": 2
   },
   "outputs": [],
   "source": [
    "# Your Q1d) code here\n",
    "sns.scatterplot(\n",
    "    data=gb,\n",
    "    x=\"Year\",\n",
    "    y=\"Life_Expectancy\",\n",
    "    size=\"Spending_USD\",\n",
    ")"
   ]
  },
  {
   "cell_type": "markdown",
   "id": "ff5a1ca2",
   "metadata": {},
   "source": [
    "### Q1e)"
   ]
  },
  {
   "cell_type": "markdown",
   "id": "892bc176",
   "metadata": {},
   "source": [
    "Using the \"full\" dataset again (not just data relating to Great Britain),\n",
    "create a line plot showing the average health expenditure (`Spending_USD`) \n",
    "over time (`Year`).\n",
    "\n",
    "Use a shaded region to indicate the standard deviation.\n"
   ]
  },
  {
   "cell_type": "code",
   "execution_count": null,
   "id": "9f03a96f",
   "metadata": {
    "lines_to_next_cell": 2
   },
   "outputs": [],
   "source": [
    "# Your Q1e) code here\n",
    "sns.lineplot(\n",
    "    data=data,\n",
    "    x=\"Year\",\n",
    "    y=\"Spending_USD\",\n",
    "    ci=\"sd\",\n",
    ")"
   ]
  },
  {
   "cell_type": "markdown",
   "id": "cd209219",
   "metadata": {},
   "source": [
    "### Q1f)"
   ]
  },
  {
   "cell_type": "markdown",
   "id": "68790314",
   "metadata": {},
   "source": [
    "Create another line plot showing the health expenditure (`Spending_USD`) \n",
    "against time (`Year`) for each `Country`. \n",
    "\n",
    "Use a distinct line style/colour for each country.\n"
   ]
  },
  {
   "cell_type": "code",
   "execution_count": null,
   "id": "22469b86",
   "metadata": {
    "lines_to_next_cell": 0
   },
   "outputs": [],
   "source": [
    "# Your Q1f) code here\n",
    "sns.lineplot(\n",
    "    data=data,\n",
    "    x=\"Year\",\n",
    "    y=\"Spending_USD\",\n",
    "    hue=\"Country\",\n",
    "    style=\"Country\",\n",
    ")"
   ]
  },
  {
   "cell_type": "markdown",
   "id": "8fd2ab13",
   "metadata": {},
   "source": [
    "\n",
    "\n"
   ]
  }
 ],
 "metadata": {
  "jupytext": {
   "cell_metadata_filter": "-all",
   "main_language": "python",
   "notebook_metadata_filter": "-all"
  }
 },
 "nbformat": 4,
 "nbformat_minor": 5
}

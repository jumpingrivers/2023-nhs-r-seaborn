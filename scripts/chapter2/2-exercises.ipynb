{
 "cells": [
  {
   "cell_type": "markdown",
   "id": "71f347b4",
   "metadata": {},
   "source": [
    "# Chapter 2 Exercises"
   ]
  },
  {
   "cell_type": "markdown",
   "id": "9955658a",
   "metadata": {},
   "source": [
    "Not all questions will require you to write code, you will be able to write\n",
    "your answers in the appropriate places. For code answers, write them out into\n",
    "the code cells provided.\n",
    "\n",
    "If you need help:\n",
    "\n",
    "* Look back through [chapter2/2-demo.ipynb](4-demo.ipynb)\n",
    "\n",
    "* Ask for help from your trainer (unmute, message, or private message)"
   ]
  },
  {
   "cell_type": "markdown",
   "id": "1b141e4c",
   "metadata": {},
   "source": [
    "## Q1)"
   ]
  },
  {
   "cell_type": "markdown",
   "id": "796fcd74",
   "metadata": {},
   "source": [
    "For this question we will revisit the health\n",
    "expenditure data, which can be loaded by running:\n"
   ]
  },
  {
   "cell_type": "code",
   "execution_count": null,
   "id": "9ac330dc",
   "metadata": {
    "lines_to_next_cell": 2
   },
   "outputs": [],
   "source": [
    "import seaborn as sns\n",
    "\n",
    "data = sns.load_dataset(\"healthexp\")\n",
    "data.head()"
   ]
  },
  {
   "cell_type": "markdown",
   "id": "59b70bfe",
   "metadata": {},
   "source": [
    "Again, the code below will generate a subset of the data for Great Britain:\n"
   ]
  },
  {
   "cell_type": "code",
   "execution_count": null,
   "id": "6e726b02",
   "metadata": {
    "lines_to_next_cell": 2
   },
   "outputs": [],
   "source": [
    "gb = data[data[\"Country\"] == \"Great Britain\"]"
   ]
  },
  {
   "cell_type": "markdown",
   "id": "8456ca86",
   "metadata": {},
   "source": [
    "### Q1a)"
   ]
  },
  {
   "cell_type": "markdown",
   "id": "73ab74f8",
   "metadata": {},
   "source": [
    "Run the code below to initialise a `plt.subplots()` figure with two panels.\n"
   ]
  },
  {
   "cell_type": "code",
   "execution_count": null,
   "id": "12304001",
   "metadata": {
    "lines_to_next_cell": 2
   },
   "outputs": [],
   "source": [
    "import matplotlib.pyplot as plt\n",
    "\n",
    "fig, ax = plt.subplots(\n",
    "    nrows=2,\n",
    "    ncols=1,\n",
    "    figsize=(6, 5),\n",
    ")"
   ]
  },
  {
   "cell_type": "markdown",
   "id": "bfbf00fd",
   "metadata": {},
   "source": [
    "The top panel is accessed using `ax[0]` and the bottom panel is accessed with `ax[1]`."
   ]
  },
  {
   "cell_type": "markdown",
   "id": "130b7fb4",
   "metadata": {},
   "source": [
    "### Q1b)"
   ]
  },
  {
   "cell_type": "markdown",
   "id": "7cf8108f",
   "metadata": {},
   "source": [
    "The code below adds a regression plot to the upper panel, showing the best-fit trendline\n",
    "for the life expectancy vs the health expenditure for the Great Britain data.\n",
    "\n",
    "Add a residual plot to the lower panel."
   ]
  },
  {
   "cell_type": "markdown",
   "id": "707d9542",
   "metadata": {},
   "source": [
    "*Hint*: use the argument `ax` to specify which axes to use.\n"
   ]
  },
  {
   "cell_type": "code",
   "execution_count": null,
   "id": "ec2aa1a9",
   "metadata": {
    "lines_to_next_cell": 2
   },
   "outputs": [],
   "source": [
    "fig, ax = plt.subplots(\n",
    "    nrows=2,\n",
    "    ncols=1,\n",
    "    figsize=(6, 5),\n",
    ")\n",
    "sns.regplot(\n",
    "    data=gb,\n",
    "    x=\"Spending_USD\",\n",
    "    y=\"Life_Expectancy\",\n",
    "    ax=ax[0],\n",
    ")\n",
    "# Your Q1b) code here"
   ]
  },
  {
   "cell_type": "markdown",
   "id": "14033e09",
   "metadata": {},
   "source": [
    "_NB. Because our figure has been created with matplotlib, it can be customised\n",
    "using matplotlib syntax. For example, you could change the y-axis label of the lower\n",
    "panel to \"Residuals\" using_ `ax[1].set_ylabel(\"Residuals\")`"
   ]
  },
  {
   "cell_type": "markdown",
   "id": "83839c67",
   "metadata": {},
   "source": [
    "## Q2)"
   ]
  },
  {
   "cell_type": "markdown",
   "id": "f30c265d",
   "metadata": {},
   "source": [
    "In this question we will plot the distribution of pulse rates for different\n",
    "types of exercise and diet. First, load the dataset with:\n"
   ]
  },
  {
   "cell_type": "code",
   "execution_count": null,
   "id": "4688f9a7",
   "metadata": {
    "lines_to_next_cell": 2
   },
   "outputs": [],
   "source": [
    "import seaborn as sns\n",
    "\n",
    "exercise = sns.load_dataset(\"exercise\")\n",
    "exercise.head()"
   ]
  },
  {
   "cell_type": "markdown",
   "id": "4b0b2001",
   "metadata": {},
   "source": [
    "### Q2a)"
   ]
  },
  {
   "cell_type": "markdown",
   "id": "08e967c0",
   "metadata": {},
   "source": [
    "Plot the distribution of pulse rates (`pulse`) using a histogram.\n"
   ]
  },
  {
   "cell_type": "code",
   "execution_count": null,
   "id": "82e4d772",
   "metadata": {
    "lines_to_next_cell": 2
   },
   "outputs": [],
   "source": [
    "# Your Q2a) code here"
   ]
  },
  {
   "cell_type": "markdown",
   "id": "5aa2b713",
   "metadata": {},
   "source": [
    "### Q2b)"
   ]
  },
  {
   "cell_type": "markdown",
   "id": "43087575",
   "metadata": {},
   "source": [
    "Plot the distribution of pulse rates, split by exercise type (listed in the `\"kind\"` column). \n",
    "Use stepped histograms.\n",
    "\n",
    "*hint*: The `hue` argument can be used to split a histogram by a variable. "
   ]
  },
  {
   "cell_type": "code",
   "execution_count": null,
   "id": "e25167aa",
   "metadata": {
    "lines_to_next_cell": 2
   },
   "outputs": [],
   "source": [
    "# Your Q2b) code here"
   ]
  },
  {
   "cell_type": "markdown",
   "id": "32f3b825",
   "metadata": {},
   "source": [
    "### Q2c)"
   ]
  },
  {
   "cell_type": "markdown",
   "id": "9e89ac7a",
   "metadata": {},
   "source": [
    "Recreate the plot from Q2b), but visualising the distributions with a KDE,\n",
    "rather than a histogram.\n"
   ]
  },
  {
   "cell_type": "code",
   "execution_count": null,
   "id": "2a4d51fa",
   "metadata": {},
   "outputs": [],
   "source": [
    "# Your Q2c) code here"
   ]
  },
  {
   "cell_type": "markdown",
   "id": "8b65347b",
   "metadata": {},
   "source": [
    "## Q3)"
   ]
  },
  {
   "cell_type": "markdown",
   "id": "1da5757f",
   "metadata": {},
   "source": [
    "### Q3a)"
   ]
  },
  {
   "cell_type": "markdown",
   "id": "6775d9e2",
   "metadata": {},
   "source": [
    "Using a facet grid of histograms, display the distributions of pulse rates (`pulse`) for\n",
    "every combination of `diet` and exercise type (`kind`)."
   ]
  },
  {
   "cell_type": "code",
   "execution_count": null,
   "id": "1f240e2e",
   "metadata": {
    "lines_to_next_cell": 2
   },
   "outputs": [],
   "source": [
    "# Run this cell to hide the deprecation warning\n",
    "import warnings\n",
    "\n",
    "warnings.filterwarnings(\"ignore\", message=\"iteritems is deprecated\")"
   ]
  },
  {
   "cell_type": "code",
   "execution_count": null,
   "id": "6f50a5b6",
   "metadata": {
    "lines_to_next_cell": 2
   },
   "outputs": [],
   "source": [
    "# Your Q3a) code here"
   ]
  },
  {
   "cell_type": "markdown",
   "id": "d2847996",
   "metadata": {},
   "source": [
    "### Q3b)"
   ]
  },
  {
   "cell_type": "markdown",
   "id": "c8f023ba",
   "metadata": {},
   "source": [
    "The x-axis labels have no units! Redo the plot with the unit \"bpm\" (beats per\n",
    "minute) displayed on the x-axes."
   ]
  },
  {
   "cell_type": "markdown",
   "id": "74ec4626",
   "metadata": {},
   "source": [
    "*Hint: do this for the lower panels only*\n"
   ]
  },
  {
   "cell_type": "code",
   "execution_count": null,
   "id": "81d78cd3",
   "metadata": {
    "lines_to_next_cell": 2
   },
   "outputs": [],
   "source": [
    "# Your Q3b) code here"
   ]
  },
  {
   "cell_type": "markdown",
   "id": "8d87b7f8",
   "metadata": {},
   "source": [
    "## Extra exercises!"
   ]
  },
  {
   "cell_type": "markdown",
   "id": "a74acbcd",
   "metadata": {},
   "source": [
    "## Q4)"
   ]
  },
  {
   "cell_type": "markdown",
   "id": "b831cd90",
   "metadata": {},
   "source": [
    "For this question we will construct a pair grid plot using the planets dataset,\n",
    "which can be loaded by running:\n"
   ]
  },
  {
   "cell_type": "code",
   "execution_count": null,
   "id": "b2eedf2f",
   "metadata": {
    "lines_to_next_cell": 2
   },
   "outputs": [],
   "source": [
    "planets = sns.load_dataset(\"planets\")\n",
    "planets.head()"
   ]
  },
  {
   "cell_type": "markdown",
   "id": "8e29b8af",
   "metadata": {},
   "source": [
    "### Q4a)"
   ]
  },
  {
   "cell_type": "markdown",
   "id": "ab2dead2",
   "metadata": {},
   "source": [
    "The code below will generate an empty pair grid. Update this so that the\n",
    "diagonal panels display histograms, the upper panels display scatter plots, and\n",
    "the lower panels display KDE plots.\n"
   ]
  },
  {
   "cell_type": "code",
   "execution_count": null,
   "id": "871101df",
   "metadata": {
    "lines_to_next_cell": 2
   },
   "outputs": [],
   "source": [
    "# Your Q4a) code here\n",
    "g = sns.PairGrid(data=planets, diag_sharey=False)"
   ]
  },
  {
   "cell_type": "markdown",
   "id": "33d37a3f",
   "metadata": {},
   "source": [
    "### Q4b)"
   ]
  },
  {
   "cell_type": "markdown",
   "id": "f7b4bc3d",
   "metadata": {},
   "source": [
    "A linear scale is unsuitable for the orbital period and the distance. Running\n",
    "the code below will create a new dataset `planets_log`, with the base-10\n",
    "logarithm applied to the orbital period and distance columns:\n"
   ]
  },
  {
   "cell_type": "code",
   "execution_count": null,
   "id": "37c52fce",
   "metadata": {
    "lines_to_next_cell": 2
   },
   "outputs": [],
   "source": [
    "import numpy as np\n",
    "\n",
    "planets_log = planets.copy()\n",
    "planets_log[\"orbital_period\"] = np.log10(planets[\"orbital_period\"])\n",
    "planets_log[\"distance\"] = np.log10(planets[\"distance\"])"
   ]
  },
  {
   "cell_type": "markdown",
   "id": "61cf5389",
   "metadata": {},
   "source": [
    "Rerun your code from part a) using the new dataset. The KDEs should now span the\n",
    "full axis range.\n"
   ]
  },
  {
   "cell_type": "code",
   "execution_count": null,
   "id": "9bf5939f",
   "metadata": {
    "lines_to_next_cell": 2
   },
   "outputs": [],
   "source": [
    "# Your Q4b) code here"
   ]
  },
  {
   "cell_type": "markdown",
   "id": "7caf8d2a",
   "metadata": {},
   "source": [
    "### Q4c)"
   ]
  },
  {
   "cell_type": "markdown",
   "id": "0edf3db1",
   "metadata": {},
   "source": [
    "Change the axis labels to `\"Number\"`, `\"Orbital period / yr\"`, `\"Mass / $M_J$\"`,\n",
    "`\"Distance / ly\"`, `\"Year\"`."
   ]
  },
  {
   "cell_type": "markdown",
   "id": "0bd9bb61",
   "metadata": {},
   "source": [
    "*Hint: use a for loop to update the labels.*\n"
   ]
  },
  {
   "cell_type": "code",
   "execution_count": null,
   "id": "7fe224ad",
   "metadata": {
    "lines_to_next_cell": 2
   },
   "outputs": [],
   "source": [
    "# Your Q4c) code here"
   ]
  },
  {
   "cell_type": "markdown",
   "id": "7b63a653",
   "metadata": {},
   "source": [
    "### Q4d)"
   ]
  },
  {
   "cell_type": "markdown",
   "id": "9f375447",
   "metadata": {},
   "source": [
    "There is a mismatch between the axis labels and tick values for the orbital\n",
    "period and the distance, where base-10 logarithms are now used. Correct this by\n",
    "replacing the tick labels using scientific notation. For example, 1 should be\n",
    "replaced with $10^1$ (written as `$10^1$` in math mode), etc.\n",
    "\n",
    "Finally, save your figure as a PDF."
   ]
  },
  {
   "cell_type": "markdown",
   "id": "238e6433",
   "metadata": {},
   "source": [
    "*Hint: because of the shared axes, you only need to amend the x ticks for one\n",
    "row and the y ticks for one column.*\n"
   ]
  },
  {
   "cell_type": "code",
   "execution_count": null,
   "id": "9dc00ee6",
   "metadata": {
    "lines_to_next_cell": 2
   },
   "outputs": [],
   "source": [
    "# Your Q4d) code here"
   ]
  },
  {
   "cell_type": "markdown",
   "id": "0d93dac3",
   "metadata": {},
   "source": [
    "### Solutions"
   ]
  },
  {
   "cell_type": "markdown",
   "id": "b46a05f7",
   "metadata": {},
   "source": [
    "Got to the end early? Want to check your solutions?\n",
    "\n",
    "Your trainer will be going over the solutions shortly.\n",
    "\n",
    "However, in the meanwhile, you can view the solutions to these exercises\n",
    "[here](2-exercises-solutions.ipynb).\n"
   ]
  }
 ],
 "metadata": {
  "jupytext": {
   "cell_metadata_filter": "-all",
   "main_language": "python",
   "notebook_metadata_filter": "-all"
  }
 },
 "nbformat": 4,
 "nbformat_minor": 5
}

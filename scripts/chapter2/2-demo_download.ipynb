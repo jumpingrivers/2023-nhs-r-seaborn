{
 "cells": [
  {
   "cell_type": "markdown",
   "id": "8bbfee6b",
   "metadata": {},
   "source": [
    "# Download Materials"
   ]
  },
  {
   "cell_type": "markdown",
   "id": "12be35ec",
   "metadata": {},
   "source": [
    "_Remember: this machine is temporary._"
   ]
  },
  {
   "cell_type": "markdown",
   "id": "36ed41b3",
   "metadata": {},
   "source": [
    "To download the content from this machine, so that you can refer to the content\n",
    "after the course, run the two code cells below and click on the generated link."
   ]
  },
  {
   "cell_type": "code",
   "execution_count": null,
   "id": "95cb4666",
   "metadata": {},
   "outputs": [],
   "source": [
    "! zip -r9 download_me.zip ~/"
   ]
  },
  {
   "cell_type": "code",
   "execution_count": null,
   "id": "23a143d3",
   "metadata": {
    "lines_to_next_cell": 0
   },
   "outputs": [],
   "source": [
    "from IPython.display import display, FileLink\n",
    "\n",
    "local_file = FileLink(\n",
    "    \"./download_me.zip\",\n",
    "    result_html_prefix=\"Click here to download: \"\n",
    ")\n",
    "display(local_file)"
   ]
  },
  {
   "cell_type": "markdown",
   "id": "aba7414e",
   "metadata": {},
   "source": [
    "\n"
   ]
  }
 ],
 "metadata": {
  "jupytext": {
   "cell_metadata_filter": "-all",
   "main_language": "python",
   "notebook_metadata_filter": "-all"
  }
 },
 "nbformat": 4,
 "nbformat_minor": 5
}

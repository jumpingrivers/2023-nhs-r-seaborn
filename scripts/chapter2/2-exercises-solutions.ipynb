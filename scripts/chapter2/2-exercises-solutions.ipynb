{
 "cells": [
  {
   "cell_type": "markdown",
   "id": "fd4e5e1a",
   "metadata": {},
   "source": [
    "# Chapter 2 Exercise solutions\n",
    "\n"
   ]
  },
  {
   "cell_type": "markdown",
   "id": "6b561a2d",
   "metadata": {},
   "source": [
    "## Q1)"
   ]
  },
  {
   "cell_type": "markdown",
   "id": "06f5b5e4",
   "metadata": {},
   "source": [
    "For this question we will revisit the health\n",
    "expenditure data, which can be loaded by running:\n"
   ]
  },
  {
   "cell_type": "code",
   "execution_count": null,
   "id": "bd98f8c2",
   "metadata": {
    "lines_to_next_cell": 2
   },
   "outputs": [],
   "source": [
    "import seaborn as sns\n",
    "\n",
    "data = sns.load_dataset(\"healthexp\")\n",
    "data.head()"
   ]
  },
  {
   "cell_type": "markdown",
   "id": "0fa284df",
   "metadata": {},
   "source": [
    "Again, the code below will generate a subset of the data for Great Britain:\n"
   ]
  },
  {
   "cell_type": "code",
   "execution_count": null,
   "id": "16d4cb0a",
   "metadata": {
    "lines_to_next_cell": 2
   },
   "outputs": [],
   "source": [
    "gb = data[data[\"Country\"] == \"Great Britain\"]"
   ]
  },
  {
   "cell_type": "markdown",
   "id": "ccc6e290",
   "metadata": {},
   "source": [
    "### Q1a)"
   ]
  },
  {
   "cell_type": "markdown",
   "id": "030f80fa",
   "metadata": {},
   "source": [
    "Run the code below to initialise a `plt.subplots()` figure with two panels.\n"
   ]
  },
  {
   "cell_type": "code",
   "execution_count": null,
   "id": "bb9c1274",
   "metadata": {
    "lines_to_next_cell": 2
   },
   "outputs": [],
   "source": [
    "import matplotlib.pyplot as plt\n",
    "\n",
    "fig, ax = plt.subplots(\n",
    "    nrows=2,\n",
    "    ncols=1,\n",
    "    figsize=(6, 5),\n",
    ")"
   ]
  },
  {
   "cell_type": "markdown",
   "id": "165dfada",
   "metadata": {},
   "source": [
    "The top panel is accessed using `ax[0]` and the bottom panel is accessed with `ax[1]`."
   ]
  },
  {
   "cell_type": "markdown",
   "id": "9d3dc9e2",
   "metadata": {},
   "source": [
    "### Q1b)"
   ]
  },
  {
   "cell_type": "markdown",
   "id": "b2541462",
   "metadata": {},
   "source": [
    "The code below adds a regression plot to the upper panel, showing the best-fit trendline\n",
    "for the life expectancy vs the health expenditure for the Great Britain data.\n",
    "\n",
    "Add a residual plot to the lower panel."
   ]
  },
  {
   "cell_type": "markdown",
   "id": "a55f8d68",
   "metadata": {},
   "source": [
    "*Hint*: use the argument `ax` to specify which axes to use.\n"
   ]
  },
  {
   "cell_type": "code",
   "execution_count": null,
   "id": "547b283c",
   "metadata": {
    "lines_to_next_cell": 2
   },
   "outputs": [],
   "source": [
    "fig, ax = plt.subplots(\n",
    "    nrows=2,\n",
    "    ncols=1,\n",
    "    figsize=(6, 5),\n",
    ")\n",
    "sns.regplot(\n",
    "    data=gb,\n",
    "    x=\"Spending_USD\",\n",
    "    y=\"Life_Expectancy\",\n",
    "    ax=ax[0],\n",
    ")\n",
    "# Your Q1b) code here\n",
    "sns.residplot(\n",
    "    data=gb,\n",
    "    x=\"Spending_USD\",\n",
    "    y=\"Life_Expectancy\",\n",
    "    ax=ax[1],\n",
    ")"
   ]
  },
  {
   "cell_type": "markdown",
   "id": "d9104a88",
   "metadata": {},
   "source": [
    "_NB. Because our figure has been created with matplotlib, it can be customised\n",
    "using matplotlib syntax. For example, you could change the y-axis label of the lower\n",
    "panel to \"Residuals\" using_ `ax[1].set_ylabel(\"Residuals\")`"
   ]
  },
  {
   "cell_type": "markdown",
   "id": "3962929f",
   "metadata": {},
   "source": [
    "## Q2)"
   ]
  },
  {
   "cell_type": "markdown",
   "id": "f341fa0a",
   "metadata": {},
   "source": [
    "In this question we will plot the distribution of pulse rates for different\n",
    "types of exercise and diet. First, load the dataset with:\n"
   ]
  },
  {
   "cell_type": "code",
   "execution_count": null,
   "id": "ae113b3b",
   "metadata": {
    "lines_to_next_cell": 2
   },
   "outputs": [],
   "source": [
    "import seaborn as sns\n",
    "\n",
    "exercise = sns.load_dataset(\"exercise\")\n",
    "exercise.head()"
   ]
  },
  {
   "cell_type": "markdown",
   "id": "b7a4df3c",
   "metadata": {},
   "source": [
    "### Q2a)"
   ]
  },
  {
   "cell_type": "markdown",
   "id": "49a8b4f6",
   "metadata": {},
   "source": [
    "Plot the distribution of pulse rates (`pulse`) using a histogram.\n"
   ]
  },
  {
   "cell_type": "code",
   "execution_count": null,
   "id": "184592c4",
   "metadata": {
    "lines_to_next_cell": 2
   },
   "outputs": [],
   "source": [
    "# Your Q2a) code here\n",
    "import matplotlib.pyplot as plt\n",
    "\n",
    "fig, ax = plt.subplots(figsize=(8, 6))\n",
    "sns.histplot(data=exercise, x=\"pulse\", ax=ax)"
   ]
  },
  {
   "cell_type": "markdown",
   "id": "72d47802",
   "metadata": {},
   "source": [
    "### Q2b)"
   ]
  },
  {
   "cell_type": "markdown",
   "id": "2591e8f3",
   "metadata": {},
   "source": [
    "Plot the distribution of pulse rates, split by exercise type (listed in the `\"kind\"` column). \n",
    "Use stepped histograms.\n",
    "\n",
    "*hint*: The `hue` argument can be used to split a histogram by a variable. "
   ]
  },
  {
   "cell_type": "code",
   "execution_count": null,
   "id": "ecede912",
   "metadata": {
    "lines_to_next_cell": 2
   },
   "outputs": [],
   "source": [
    "# Your Q2b) code here\n",
    "fig, ax = plt.subplots(figsize=(8, 6))\n",
    "sns.histplot(\n",
    "    data=exercise,\n",
    "    x=\"pulse\",\n",
    "    element=\"step\",\n",
    "    hue=\"kind\",\n",
    "    ax=ax,\n",
    ")"
   ]
  },
  {
   "cell_type": "markdown",
   "id": "d0693b77",
   "metadata": {},
   "source": [
    "### Q2c)"
   ]
  },
  {
   "cell_type": "markdown",
   "id": "67eb41bd",
   "metadata": {},
   "source": [
    "Recreate the plot from Q2b), but visualising the distributions with a KDE,\n",
    "rather than a histogram.\n"
   ]
  },
  {
   "cell_type": "code",
   "execution_count": null,
   "id": "344c5b73",
   "metadata": {},
   "outputs": [],
   "source": [
    "# Your Q2c) code here\n",
    "fig, ax = plt.subplots(figsize=(8, 6))\n",
    "sns.kdeplot(data=exercise, x=\"pulse\", hue=\"kind\", ax=ax)"
   ]
  },
  {
   "cell_type": "markdown",
   "id": "57fb5c43",
   "metadata": {},
   "source": [
    "## Q3)"
   ]
  },
  {
   "cell_type": "markdown",
   "id": "ca98095a",
   "metadata": {},
   "source": [
    "### Q3a)"
   ]
  },
  {
   "cell_type": "markdown",
   "id": "2e641adf",
   "metadata": {},
   "source": [
    "Using a facet grid of histograms, display the distributions of pulse rates (`pulse`) for\n",
    "every combination of `diet` and exercise type (`kind`)."
   ]
  },
  {
   "cell_type": "code",
   "execution_count": null,
   "id": "78d58780",
   "metadata": {
    "lines_to_next_cell": 2
   },
   "outputs": [],
   "source": [
    "# Run this cell to hide the deprecation warning\n",
    "import warnings\n",
    "\n",
    "warnings.filterwarnings(\"ignore\", message=\"iteritems is deprecated\")"
   ]
  },
  {
   "cell_type": "code",
   "execution_count": null,
   "id": "ea456b8b",
   "metadata": {
    "lines_to_next_cell": 2
   },
   "outputs": [],
   "source": [
    "# Your Q3a) code here\n",
    "g = (\n",
    "    sns.FacetGrid(data=exercise, row=\"diet\", col=\"kind\")\n",
    "    .map(sns.histplot, \"pulse\")\n",
    ")"
   ]
  },
  {
   "cell_type": "markdown",
   "id": "5de2a11d",
   "metadata": {},
   "source": [
    "### Q3b)"
   ]
  },
  {
   "cell_type": "markdown",
   "id": "02a718d7",
   "metadata": {},
   "source": [
    "The x-axis labels have no units! Redo the plot with the unit \"bpm\" (beats per\n",
    "minute) displayed on the x-axes."
   ]
  },
  {
   "cell_type": "markdown",
   "id": "47790975",
   "metadata": {},
   "source": [
    "*Hint: do this for the lower panels only*\n"
   ]
  },
  {
   "cell_type": "code",
   "execution_count": null,
   "id": "4ff7c68d",
   "metadata": {
    "lines_to_next_cell": 2
   },
   "outputs": [],
   "source": [
    "# Your Q3b) code here\n",
    "g = (\n",
    "    sns.FacetGrid(data=exercise, row=\"diet\", col=\"kind\")\n",
    "    .map(sns.histplot, \"pulse\")\n",
    ")\n",
    "fig, ax = g.figure, g.axes\n",
    "for i in range(3):\n",
    "    ax[1, i].set_xlabel(\"Pulse / bpm\")"
   ]
  },
  {
   "cell_type": "markdown",
   "id": "7e76b49f",
   "metadata": {},
   "source": [
    "## Extra exercises!"
   ]
  },
  {
   "cell_type": "markdown",
   "id": "7b0d6ce8",
   "metadata": {},
   "source": [
    "## Q4)"
   ]
  },
  {
   "cell_type": "markdown",
   "id": "2d23f944",
   "metadata": {},
   "source": [
    "For this question we will construct a pair grid plot using the planets dataset,\n",
    "which can be loaded by running:\n"
   ]
  },
  {
   "cell_type": "code",
   "execution_count": null,
   "id": "21ad3b70",
   "metadata": {
    "lines_to_next_cell": 2
   },
   "outputs": [],
   "source": [
    "planets = sns.load_dataset(\"planets\")\n",
    "planets.head()"
   ]
  },
  {
   "cell_type": "markdown",
   "id": "1edbf958",
   "metadata": {},
   "source": [
    "### Q4a)"
   ]
  },
  {
   "cell_type": "markdown",
   "id": "d987d815",
   "metadata": {},
   "source": [
    "The code below will generate an empty pair grid. Update this so that the\n",
    "diagonal panels display histograms, the upper panels display scatter plots, and\n",
    "the lower panels display KDE plots.\n"
   ]
  },
  {
   "cell_type": "code",
   "execution_count": null,
   "id": "ed35b1c1",
   "metadata": {
    "lines_to_next_cell": 2
   },
   "outputs": [],
   "source": [
    "# Your Q4a) code here\n",
    "g = (\n",
    "    sns.PairGrid(data=planets, diag_sharey=False)\n",
    "    .map_diag(sns.histplot)\n",
    "    .map_lower(sns.kdeplot)\n",
    "    .map_upper(sns.scatterplot)\n",
    ")"
   ]
  },
  {
   "cell_type": "markdown",
   "id": "38a52527",
   "metadata": {},
   "source": [
    "### Q4b)"
   ]
  },
  {
   "cell_type": "markdown",
   "id": "0fcf390e",
   "metadata": {},
   "source": [
    "A linear scale is unsuitable for the orbital period and the distance. Running\n",
    "the code below will create a new dataset `planets_log`, with the base-10\n",
    "logarithm applied to the orbital period and distance columns:\n"
   ]
  },
  {
   "cell_type": "code",
   "execution_count": null,
   "id": "05dd835d",
   "metadata": {
    "lines_to_next_cell": 2
   },
   "outputs": [],
   "source": [
    "import numpy as np\n",
    "\n",
    "planets_log = planets.copy()\n",
    "planets_log[\"orbital_period\"] = np.log10(planets[\"orbital_period\"])\n",
    "planets_log[\"distance\"] = np.log10(planets[\"distance\"])"
   ]
  },
  {
   "cell_type": "markdown",
   "id": "794b2f9e",
   "metadata": {},
   "source": [
    "Rerun your code from part a) using the new dataset. The KDEs should now span the\n",
    "full axis range.\n"
   ]
  },
  {
   "cell_type": "code",
   "execution_count": null,
   "id": "a83c2388",
   "metadata": {
    "lines_to_next_cell": 2
   },
   "outputs": [],
   "source": [
    "# Your Q4b) code here\n",
    "g = (\n",
    "    sns.PairGrid(data=planets_log, diag_sharey=False)\n",
    "    .map_diag(sns.histplot)\n",
    "    .map_lower(sns.kdeplot)\n",
    "    .map_upper(sns.scatterplot)\n",
    ")"
   ]
  },
  {
   "cell_type": "markdown",
   "id": "67a9b81e",
   "metadata": {},
   "source": [
    "### Q4c)"
   ]
  },
  {
   "cell_type": "markdown",
   "id": "76159039",
   "metadata": {},
   "source": [
    "Change the axis labels to `\"Number\"`, `\"Orbital period / yr\"`, `\"Mass / $M_J$\"`,\n",
    "`\"Distance / ly\"`, `\"Year\"`."
   ]
  },
  {
   "cell_type": "markdown",
   "id": "46425cd2",
   "metadata": {},
   "source": [
    "*Hint: use a for loop to update the labels.*\n"
   ]
  },
  {
   "cell_type": "code",
   "execution_count": null,
   "id": "1b56c53e",
   "metadata": {
    "lines_to_next_cell": 2
   },
   "outputs": [],
   "source": [
    "# Your Q4c) code here\n",
    "g = (\n",
    "    sns.PairGrid(data=planets_log, diag_sharey=False)\n",
    "    .map_diag(sns.histplot)\n",
    "    .map_lower(sns.kdeplot)\n",
    "    .map_upper(sns.scatterplot)\n",
    ")\n",
    "\n",
    "fig, ax = g.figure, g.axes\n",
    "labels = [\n",
    "    \"Number\",\n",
    "    \"Orbital period / yr\",\n",
    "    \"Mass / $M_J$\",\n",
    "    \"Distance / ly\",\n",
    "    \"Year\",\n",
    "]\n",
    "for i, lab in enumerate(labels):\n",
    "    ax[i, 0].set_ylabel(lab)\n",
    "    ax[4, i].set_xlabel(lab)"
   ]
  },
  {
   "cell_type": "markdown",
   "id": "4003fa87",
   "metadata": {},
   "source": [
    "### Q4d)"
   ]
  },
  {
   "cell_type": "markdown",
   "id": "f043b9c6",
   "metadata": {},
   "source": [
    "There is a mismatch between the axis labels and tick values for the orbital\n",
    "period and the distance, where base-10 logarithms are now used. Correct this by\n",
    "replacing the tick labels using scientific notation. For example, 1 should be\n",
    "replaced with $10^1$ (written as `$10^1$` in math mode), etc.\n",
    "\n",
    "Finally, save your figure as a PDF."
   ]
  },
  {
   "cell_type": "markdown",
   "id": "7f8da3b8",
   "metadata": {},
   "source": [
    "*Hint: because of the shared axes, you only need to amend the x ticks for one\n",
    "row and the y ticks for one column.*\n"
   ]
  },
  {
   "cell_type": "code",
   "execution_count": null,
   "id": "edfbccb4",
   "metadata": {
    "lines_to_next_cell": 0
   },
   "outputs": [],
   "source": [
    "# Your Q4d) code here\n",
    "g = (\n",
    "    sns.PairGrid(data=planets_log, diag_sharey=False)\n",
    "    .map_diag(sns.histplot)\n",
    "    .map_lower(sns.kdeplot)\n",
    "    .map_upper(sns.scatterplot)\n",
    ")\n",
    "\n",
    "fig, ax = g.figure, g.axes\n",
    "for i, lab in enumerate(labels):\n",
    "    ax[i, 0].set_ylabel(lab)\n",
    "    ax[4, i].set_xlabel(lab)\n",
    "\n",
    "# Update orbital period tick labels\n",
    "ax[4, 1].set_xticks([0, 3, 6])\n",
    "ax[4, 1].set_xticklabels([\"$10^0$\", \"$10^3$\", \"$10^6$\"])\n",
    "ax[1, 0].set_yticks([0, 3, 6])\n",
    "ax[1, 0].set_yticklabels([\"$10^0$\", \"$10^3$\", \"$10^6$\"])\n",
    "\n",
    "# Update distance tick labels\n",
    "ax[4, 3].set_xticks([0, 2, 4])\n",
    "ax[4, 3].set_xticklabels([\"$10^0$\", \"$10^2$\", \"$10^4$\"])\n",
    "ax[3, 0].set_yticks([0, 2, 4])\n",
    "ax[3, 0].set_yticklabels([\"$10^0$\", \"$10^2$\", \"$10^4$\"])\n",
    "\n",
    "fig.savefig(\"planets_grid.pdf\")"
   ]
  },
  {
   "cell_type": "markdown",
   "id": "cd779d92",
   "metadata": {},
   "source": [
    "\n",
    "\n"
   ]
  }
 ],
 "metadata": {
  "jupytext": {
   "cell_metadata_filter": "-all",
   "main_language": "python",
   "notebook_metadata_filter": "-all"
  }
 },
 "nbformat": 4,
 "nbformat_minor": 5
}

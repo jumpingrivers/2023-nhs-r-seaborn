{
 "cells": [
  {
   "cell_type": "markdown",
   "id": "2f1f653d",
   "metadata": {},
   "source": [
    "# Chapter 2 Exercises"
   ]
  },
  {
   "cell_type": "markdown",
   "id": "d90f78d2",
   "metadata": {},
   "source": [
    "Not all questions will require you to write code, you will be able to write\n",
    "your answers in the appropriate places. For code answers, write them out into\n",
    "the code cells provided.\n",
    "\n",
    "If you need help:\n",
    "\n",
    "* Look back through [chapter2/2-demo.ipynb](4-demo.ipynb)\n",
    "\n",
    "* Ask for help from your trainer (unmute, message, or private message)"
   ]
  },
  {
   "cell_type": "markdown",
   "id": "b4f671ad",
   "metadata": {},
   "source": [
    "## Q1)"
   ]
  },
  {
   "cell_type": "markdown",
   "id": "d6f04be0",
   "metadata": {},
   "source": [
    "For this question we will revisit the health\n",
    "expenditure data, which can be loaded by running:\n"
   ]
  },
  {
   "cell_type": "code",
   "execution_count": null,
   "id": "74694cb2",
   "metadata": {
    "lines_to_next_cell": 2
   },
   "outputs": [],
   "source": [
    "import seaborn as sns\n",
    "\n",
    "data = sns.load_dataset(\"healthexp\")\n",
    "data.head()"
   ]
  },
  {
   "cell_type": "markdown",
   "id": "cabced91",
   "metadata": {},
   "source": [
    "Again, the code below will generate a subset of the data for Great Britain:\n"
   ]
  },
  {
   "cell_type": "code",
   "execution_count": null,
   "id": "805a19e1",
   "metadata": {
    "lines_to_next_cell": 2
   },
   "outputs": [],
   "source": [
    "gb = data[data[\"Country\"] == \"Great Britain\"]"
   ]
  },
  {
   "cell_type": "markdown",
   "id": "166dc2c3",
   "metadata": {},
   "source": [
    "### Q1a)"
   ]
  },
  {
   "cell_type": "markdown",
   "id": "e57fffde",
   "metadata": {},
   "source": [
    "Run the code below to initialise a `plt.subplots()` figure with two panels.\n"
   ]
  },
  {
   "cell_type": "code",
   "execution_count": null,
   "id": "5972ae7c",
   "metadata": {
    "lines_to_next_cell": 2
   },
   "outputs": [],
   "source": [
    "import matplotlib.pyplot as plt\n",
    "\n",
    "fig, ax = plt.subplots(\n",
    "    nrows=2,\n",
    "    ncols=1,\n",
    "    figsize=(6, 5),\n",
    ")"
   ]
  },
  {
   "cell_type": "markdown",
   "id": "3610dcff",
   "metadata": {},
   "source": [
    "The top panel is accessed using `ax[0]` and the bottom panel is accessed with `ax[1]`."
   ]
  },
  {
   "cell_type": "markdown",
   "id": "924e0fde",
   "metadata": {},
   "source": [
    "### Q1b)"
   ]
  },
  {
   "cell_type": "markdown",
   "id": "7b9d06e4",
   "metadata": {},
   "source": [
    "The code below adds a regression plot to the upper panel, showing the best-fit trendline\n",
    "for the life expectancy vs the health expenditure for the Great Britain data.\n",
    "\n",
    "Add a residual plot to the lower panel."
   ]
  },
  {
   "cell_type": "markdown",
   "id": "161e2428",
   "metadata": {},
   "source": [
    "*Hint*: use the argument `ax` to specify which axes to use.\n"
   ]
  },
  {
   "cell_type": "code",
   "execution_count": null,
   "id": "2887b306",
   "metadata": {
    "lines_to_next_cell": 2
   },
   "outputs": [],
   "source": [
    "fig, ax = plt.subplots(\n",
    "    nrows=2,\n",
    "    ncols=1,\n",
    "    figsize=(6, 5),\n",
    ")\n",
    "sns.regplot(\n",
    "    data=gb,\n",
    "    x=\"Spending_USD\",\n",
    "    y=\"Life_Expectancy\",\n",
    "    ax=ax[0],\n",
    ")\n",
    "# Your Q1b) code here"
   ]
  },
  {
   "cell_type": "markdown",
   "id": "ea908451",
   "metadata": {},
   "source": [
    "_NB. Because our figure has been created with matplotlib, it can be customised\n",
    "using matplotlib syntax. For example, you could change the y-axis label of the lower\n",
    "panel to \"Residuals\" using_ `ax[1].set_ylabel(\"Residuals\")`"
   ]
  },
  {
   "cell_type": "markdown",
   "id": "a2424cf4",
   "metadata": {},
   "source": [
    "## Q2)"
   ]
  },
  {
   "cell_type": "markdown",
   "id": "b3da38e8",
   "metadata": {},
   "source": [
    "In this question we will plot the distribution of pulse rates for different\n",
    "types of exercise and diet. First, load the dataset with:\n"
   ]
  },
  {
   "cell_type": "code",
   "execution_count": null,
   "id": "515483e5",
   "metadata": {
    "lines_to_next_cell": 2
   },
   "outputs": [],
   "source": [
    "import seaborn as sns\n",
    "\n",
    "exercise = sns.load_dataset(\"exercise\")\n",
    "exercise.head()"
   ]
  },
  {
   "cell_type": "markdown",
   "id": "182a411b",
   "metadata": {},
   "source": [
    "### Q2a)"
   ]
  },
  {
   "cell_type": "markdown",
   "id": "600914bd",
   "metadata": {},
   "source": [
    "Plot the distribution of pulse rates (`pulse`) using a histogram.\n"
   ]
  },
  {
   "cell_type": "code",
   "execution_count": null,
   "id": "f453dc01",
   "metadata": {
    "lines_to_next_cell": 2
   },
   "outputs": [],
   "source": [
    "# Your Q2a) code here"
   ]
  },
  {
   "cell_type": "markdown",
   "id": "3c17eb62",
   "metadata": {},
   "source": [
    "### Q2b)"
   ]
  },
  {
   "cell_type": "markdown",
   "id": "1a2b9ea5",
   "metadata": {},
   "source": [
    "Plot the distribution of pulse rates, split by exercise type (listed in the `\"kind\"` column). \n",
    "Use stepped histograms.\n",
    "\n",
    "*hint*: The `hue` argument can be used to split a histogram by a variable. "
   ]
  },
  {
   "cell_type": "code",
   "execution_count": null,
   "id": "e0abf8da",
   "metadata": {
    "lines_to_next_cell": 2
   },
   "outputs": [],
   "source": [
    "# Your Q2b) code here"
   ]
  },
  {
   "cell_type": "markdown",
   "id": "446a0fcd",
   "metadata": {},
   "source": [
    "### Q2c)"
   ]
  },
  {
   "cell_type": "markdown",
   "id": "3130db19",
   "metadata": {},
   "source": [
    "Recreate the plot from Q2b), but visualising the distributions with a KDE,\n",
    "rather than a histogram.\n"
   ]
  },
  {
   "cell_type": "code",
   "execution_count": null,
   "id": "3a6ce25d",
   "metadata": {},
   "outputs": [],
   "source": [
    "# Your Q2c) code here"
   ]
  },
  {
   "cell_type": "markdown",
   "id": "8f625f4b",
   "metadata": {},
   "source": [
    "## Q3)"
   ]
  },
  {
   "cell_type": "markdown",
   "id": "17bc1ab0",
   "metadata": {},
   "source": [
    "### Q3a)"
   ]
  },
  {
   "cell_type": "markdown",
   "id": "7f3923f5",
   "metadata": {},
   "source": [
    "Using a facet grid of histograms, display the distributions of pulse rates (`pulse`) for\n",
    "every combination of `diet` and exercise type (`kind`)."
   ]
  },
  {
   "cell_type": "code",
   "execution_count": null,
   "id": "9a8508f0",
   "metadata": {
    "lines_to_next_cell": 2
   },
   "outputs": [],
   "source": [
    "# Run this cell to hide the deprecation warning\n",
    "import warnings\n",
    "\n",
    "warnings.filterwarnings(\"ignore\", message=\"iteritems is deprecated\")"
   ]
  },
  {
   "cell_type": "code",
   "execution_count": null,
   "id": "4dd03f59",
   "metadata": {
    "lines_to_next_cell": 2
   },
   "outputs": [],
   "source": [
    "# Your Q3a) code here"
   ]
  },
  {
   "cell_type": "markdown",
   "id": "1e24397b",
   "metadata": {},
   "source": [
    "### Q3b)"
   ]
  },
  {
   "cell_type": "markdown",
   "id": "2278dcf5",
   "metadata": {},
   "source": [
    "The x-axis labels have no units! Redo the plot with the unit \"bpm\" (beats per\n",
    "minute) displayed on the x-axes."
   ]
  },
  {
   "cell_type": "markdown",
   "id": "7f1f4367",
   "metadata": {},
   "source": [
    "*Hint: do this for the lower panels only*\n"
   ]
  },
  {
   "cell_type": "code",
   "execution_count": null,
   "id": "173703c1",
   "metadata": {
    "lines_to_next_cell": 2
   },
   "outputs": [],
   "source": [
    "# Your Q3b) code here"
   ]
  },
  {
   "cell_type": "markdown",
   "id": "876c67d6",
   "metadata": {},
   "source": [
    "## Extra exercises!"
   ]
  },
  {
   "cell_type": "markdown",
   "id": "8dd3b07a",
   "metadata": {},
   "source": [
    "## Q4)"
   ]
  },
  {
   "cell_type": "markdown",
   "id": "4559a4fb",
   "metadata": {},
   "source": [
    "For this question we will construct a pair grid plot using the planets dataset,\n",
    "which can be loaded by running:\n"
   ]
  },
  {
   "cell_type": "code",
   "execution_count": null,
   "id": "788243ed",
   "metadata": {
    "lines_to_next_cell": 2
   },
   "outputs": [],
   "source": [
    "planets = sns.load_dataset(\"planets\")\n",
    "planets.head()"
   ]
  },
  {
   "cell_type": "markdown",
   "id": "2692e690",
   "metadata": {},
   "source": [
    "### Q4a)"
   ]
  },
  {
   "cell_type": "markdown",
   "id": "6d8d26b7",
   "metadata": {},
   "source": [
    "The code below will generate an empty pair grid. Update this so that the\n",
    "diagonal panels display histograms, the upper panels display scatter plots, and\n",
    "the lower panels display KDE plots.\n"
   ]
  },
  {
   "cell_type": "code",
   "execution_count": null,
   "id": "de702ef7",
   "metadata": {
    "lines_to_next_cell": 2
   },
   "outputs": [],
   "source": [
    "# Your Q4a) code here\n",
    "g = sns.PairGrid(data=planets, diag_sharey=False)"
   ]
  },
  {
   "cell_type": "markdown",
   "id": "f4c6123e",
   "metadata": {},
   "source": [
    "### Q4b)"
   ]
  },
  {
   "cell_type": "markdown",
   "id": "e1f7f2a4",
   "metadata": {},
   "source": [
    "A linear scale is unsuitable for the orbital period and the distance. Running\n",
    "the code below will create a new dataset `planets_log`, with the base-10\n",
    "logarithm applied to the orbital period and distance columns:\n"
   ]
  },
  {
   "cell_type": "code",
   "execution_count": null,
   "id": "ee63735f",
   "metadata": {
    "lines_to_next_cell": 2
   },
   "outputs": [],
   "source": [
    "import numpy as np\n",
    "\n",
    "planets_log = planets.copy()\n",
    "planets_log[\"orbital_period\"] = np.log10(planets[\"orbital_period\"])\n",
    "planets_log[\"distance\"] = np.log10(planets[\"distance\"])"
   ]
  },
  {
   "cell_type": "markdown",
   "id": "6c2b5720",
   "metadata": {},
   "source": [
    "Rerun your code from part a) using the new dataset. The KDEs should now span the\n",
    "full axis range.\n"
   ]
  },
  {
   "cell_type": "code",
   "execution_count": null,
   "id": "d9f60023",
   "metadata": {
    "lines_to_next_cell": 2
   },
   "outputs": [],
   "source": [
    "# Your Q4b) code here"
   ]
  },
  {
   "cell_type": "markdown",
   "id": "b8fc433c",
   "metadata": {},
   "source": [
    "### Q4c)"
   ]
  },
  {
   "cell_type": "markdown",
   "id": "5ff029d3",
   "metadata": {},
   "source": [
    "Change the axis labels to `\"Number\"`, `\"Orbital period / yr\"`, `\"Mass / $M_J$\"`,\n",
    "`\"Distance / ly\"`, `\"Year\"`."
   ]
  },
  {
   "cell_type": "markdown",
   "id": "fbcc3c91",
   "metadata": {},
   "source": [
    "*Hint: use a for loop to update the labels.*\n"
   ]
  },
  {
   "cell_type": "code",
   "execution_count": null,
   "id": "b53360f1",
   "metadata": {
    "lines_to_next_cell": 2
   },
   "outputs": [],
   "source": [
    "# Your Q4c) code here"
   ]
  },
  {
   "cell_type": "markdown",
   "id": "8904ea06",
   "metadata": {},
   "source": [
    "### Q4d)"
   ]
  },
  {
   "cell_type": "markdown",
   "id": "c3241f1f",
   "metadata": {},
   "source": [
    "There is a mismatch between the axis labels and tick values for the orbital\n",
    "period and the distance, where base-10 logarithms are now used. Correct this by\n",
    "replacing the tick labels using scientific notation. For example, 1 should be\n",
    "replaced with $10^1$ (written as `$10^1$` in math mode), etc.\n",
    "\n",
    "Finally, save your figure as a PDF."
   ]
  },
  {
   "cell_type": "markdown",
   "id": "eb8ca729",
   "metadata": {},
   "source": [
    "*Hint: because of the shared axes, you only need to amend the x ticks for one\n",
    "row and the y ticks for one column.*\n"
   ]
  },
  {
   "cell_type": "code",
   "execution_count": null,
   "id": "e6071672",
   "metadata": {
    "lines_to_next_cell": 2
   },
   "outputs": [],
   "source": [
    "# Your Q4d) code here"
   ]
  },
  {
   "cell_type": "markdown",
   "id": "a78443a5",
   "metadata": {},
   "source": [
    "### Solutions"
   ]
  },
  {
   "cell_type": "markdown",
   "id": "34b31602",
   "metadata": {},
   "source": [
    "Got to the end early? Want to check your solutions?\n",
    "\n",
    "Your trainer will be going over the solutions shortly.\n",
    "\n",
    "However, in the meanwhile, you can view the solutions to these exercises\n",
    "[here](2-exercises-solutions.ipynb).\n"
   ]
  }
 ],
 "metadata": {
  "jupytext": {
   "cell_metadata_filter": "-all",
   "main_language": "python",
   "notebook_metadata_filter": "-all"
  }
 },
 "nbformat": 4,
 "nbformat_minor": 5
}

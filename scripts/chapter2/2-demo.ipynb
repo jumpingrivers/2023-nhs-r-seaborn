{
 "cells": [
  {
   "cell_type": "markdown",
   "id": "1d8bd1e6",
   "metadata": {},
   "source": [
    "# 2 Advanced Statistics with Seaborn"
   ]
  },
  {
   "cell_type": "markdown",
   "id": "3c932766",
   "metadata": {},
   "source": [
    "Seaborn has a fantastic array of functions for data visualisation and\n",
    "statistical operations."
   ]
  },
  {
   "cell_type": "markdown",
   "id": "b80b931a",
   "metadata": {},
   "source": [
    "We will explore a broad selection of these in this chapter, covering:\n",
    "\n",
    "- bivariate relationships;\n",
    "\n",
    "- distributions;\n",
    " \n",
    "- categorical figures."
   ]
  },
  {
   "cell_type": "markdown",
   "id": "0776b29a",
   "metadata": {},
   "source": [
    "We will finish by seeing multi-panel plots including facet and pair grids."
   ]
  },
  {
   "cell_type": "markdown",
   "id": "89881285",
   "metadata": {},
   "source": [
    "To make customising our final figures easier, we will continue initialising our\n",
    "`Figure` and `Axes` objects with matplotlib, and then passing the `Axes` object\n",
    "to Seaborn plotting functions with the `ax` argument."
   ]
  },
  {
   "cell_type": "markdown",
   "id": "3a2ea1b4",
   "metadata": {},
   "source": [
    "## 2.1 Bivariate relationships"
   ]
  },
  {
   "cell_type": "markdown",
   "id": "20f366ba",
   "metadata": {},
   "source": [
    "We will start with visualising bivariate relationships, by which we mean two\n",
    "variables plotted against each other."
   ]
  },
  {
   "cell_type": "markdown",
   "id": "8a7ed13c",
   "metadata": {},
   "source": [
    "### Scatter plots"
   ]
  },
  {
   "cell_type": "markdown",
   "id": "b36f9709",
   "metadata": {},
   "source": [
    "Let's revisit the penguins data set:\n"
   ]
  },
  {
   "cell_type": "code",
   "execution_count": null,
   "id": "0c559089",
   "metadata": {},
   "outputs": [],
   "source": [
    "import seaborn as sns\n",
    "sns.set_theme()\n",
    "\n",
    "penguins = sns.load_dataset(\"penguins\")\n",
    "penguins.head()"
   ]
  },
  {
   "cell_type": "markdown",
   "id": "a6c1a5ca",
   "metadata": {},
   "source": [
    "We first visualise bill length vs. flipper length as a scatter plot:\n"
   ]
  },
  {
   "cell_type": "code",
   "execution_count": null,
   "id": "035187d4",
   "metadata": {},
   "outputs": [],
   "source": [
    "import matplotlib.pyplot as plt\n",
    "\n",
    "fig, ax = plt.subplots(figsize=(8, 5))\n",
    "sns.scatterplot(\n",
    "    data=penguins,\n",
    "    x=\"flipper_length_mm\",\n",
    "    y=\"bill_length_mm\",\n",
    "    hue=\"species\",\n",
    "    ax=ax,\n",
    ")"
   ]
  },
  {
   "cell_type": "markdown",
   "id": "4f0221b3",
   "metadata": {},
   "source": [
    "Here we have coloured the data points according to species."
   ]
  },
  {
   "cell_type": "markdown",
   "id": "bd03ff62",
   "metadata": {},
   "source": [
    "We can map up to three variables using the parameters `hue`, `size` and\n",
    "`style`:"
   ]
  },
  {
   "cell_type": "code",
   "execution_count": null,
   "id": "6245f463",
   "metadata": {
    "lines_to_next_cell": 2
   },
   "outputs": [],
   "source": [
    "fig, ax = plt.subplots(figsize=(12, 5))\n",
    "sns.scatterplot(\n",
    "    data=penguins,\n",
    "    x=\"flipper_length_mm\",\n",
    "    y=\"bill_length_mm\",\n",
    "    hue=\"species\",\n",
    "    style=\"island\",\n",
    "    size=\"body_mass_g\",\n",
    "    ax=ax,\n",
    ")"
   ]
  },
  {
   "cell_type": "markdown",
   "id": "80fb1e25",
   "metadata": {},
   "source": [
    "The point _style_ is based on \"island\": a categorical variable.\n",
    "\n",
    "The point _size_ is based on \"body mass\": a numerical variable."
   ]
  },
  {
   "cell_type": "markdown",
   "id": "8a3b2009",
   "metadata": {},
   "source": [
    "The colouring in our figure is the default for a _categorical_ variable.\n",
    "\n",
    "If we colour by a _numerical_ variable, like body mass, a sequential colour\n",
    "gradient will be used:\n"
   ]
  },
  {
   "cell_type": "code",
   "execution_count": null,
   "id": "ca772657",
   "metadata": {},
   "outputs": [],
   "source": [
    "fig, ax = plt.subplots(figsize=(8, 5))\n",
    "sns.scatterplot(\n",
    "    data=penguins,\n",
    "    x=\"flipper_length_mm\",\n",
    "    y=\"bill_length_mm\",\n",
    "    hue=\"body_mass_g\",\n",
    "    ax=ax,\n",
    ")"
   ]
  },
  {
   "cell_type": "markdown",
   "id": "08336f4c",
   "metadata": {},
   "source": [
    "Seaborn has a range of colour palettes to choose from.\n",
    "\n",
    "[See this page](https://seaborn.pydata.org/tutorial/color_palettes.html) for an\n",
    "exhaustive list."
   ]
  },
  {
   "cell_type": "markdown",
   "id": "c72f1aed",
   "metadata": {},
   "source": [
    "A colour map name can be passed as a string to the `palette` argument:"
   ]
  },
  {
   "cell_type": "code",
   "execution_count": null,
   "id": "20d85495",
   "metadata": {},
   "outputs": [],
   "source": [
    "fig, ax = plt.subplots(figsize=(8, 5))\n",
    "sns.scatterplot(\n",
    "    data=penguins,\n",
    "    x=\"flipper_length_mm\",\n",
    "    y=\"bill_length_mm\",\n",
    "    hue=\"body_mass_g\",\n",
    "    palette=\"viridis\",\n",
    "    ax=ax,\n",
    ")"
   ]
  },
  {
   "cell_type": "markdown",
   "id": "b06bbac5",
   "metadata": {},
   "source": [
    "In this example we have used the viridis colour map, which varies from dark\n",
    "purple to bright yellow."
   ]
  },
  {
   "cell_type": "markdown",
   "id": "b917db63",
   "metadata": {},
   "source": [
    "### Optimisation functions"
   ]
  },
  {
   "cell_type": "markdown",
   "id": "20901908",
   "metadata": {},
   "source": [
    "We have already briefly discussed the `regplot()` function for generating\n",
    "regression fits.\n",
    "\n",
    "Here is an example for body mass versus flipper length:"
   ]
  },
  {
   "cell_type": "code",
   "execution_count": null,
   "id": "0913863c",
   "metadata": {},
   "outputs": [],
   "source": [
    "fig, ax = plt.subplots(figsize=(8, 5))\n",
    "sns.regplot(\n",
    "    data=penguins,\n",
    "    x=\"flipper_length_mm\",\n",
    "    y=\"body_mass_g\",\n",
    "    ax=ax,\n",
    ")"
   ]
  },
  {
   "cell_type": "markdown",
   "id": "00232082",
   "metadata": {},
   "source": [
    "This displays a linear fit with 95% confidence intervals.\n",
    "\n",
    "It's possible to apply a polynomial fit via the `order` parameter:"
   ]
  },
  {
   "cell_type": "code",
   "execution_count": null,
   "id": "e7cb1b75",
   "metadata": {},
   "outputs": [],
   "source": [
    "fig, ax = plt.subplots(figsize=(8, 5))\n",
    "sns.regplot(\n",
    "    data=penguins,\n",
    "    x=\"flipper_length_mm\",\n",
    "    y=\"body_mass_g\",\n",
    "    order=2,\n",
    "    ax=ax,\n",
    ")"
   ]
  },
  {
   "cell_type": "markdown",
   "id": "de3032ab",
   "metadata": {},
   "source": [
    "In this case, we have an order-2 polynomial (quadratic) fit."
   ]
  },
  {
   "cell_type": "markdown",
   "id": "70dddce6",
   "metadata": {},
   "source": [
    "One way to assess our goodness-of-fit is by inspecting residuals, which\n",
    "can be visualised using the `residplot()` function:"
   ]
  },
  {
   "cell_type": "code",
   "execution_count": null,
   "id": "a492f5c3",
   "metadata": {},
   "outputs": [],
   "source": [
    "fig, ax = plt.subplots(figsize=(6, 5))\n",
    "sns.residplot(\n",
    "    data=penguins,\n",
    "    x=\"flipper_length_mm\",\n",
    "    y=\"body_mass_g\",\n",
    "    order=2,\n",
    "    ax=ax,\n",
    ")"
   ]
  },
  {
   "cell_type": "markdown",
   "id": "49c2ac45",
   "metadata": {},
   "source": [
    "Seaborn's regression functionality goes even deeper than discussed here. "
   ]
  },
  {
   "cell_type": "markdown",
   "id": "dbfd7b8f",
   "metadata": {},
   "source": [
    "[Seaborn's online tutorial](https://seaborn.pydata.org/tutorial/regression.html) \n",
    "is a great place to find out more.\n",
    "\n",
    "## Exercises Q1"
   ]
  },
  {
   "cell_type": "markdown",
   "id": "6380944b",
   "metadata": {},
   "source": [
    "Please complete *Q1* of [this exercise sheet](2-exercises.ipynb#Q1\\))"
   ]
  },
  {
   "cell_type": "markdown",
   "id": "a64b08f9",
   "metadata": {},
   "source": [
    "## 2.2 Distributions"
   ]
  },
  {
   "cell_type": "markdown",
   "id": "13d482bb",
   "metadata": {},
   "source": [
    "It is often useful to visualise and model the spread of data.\n",
    "\n",
    "We will go through some examples of visualising univariate and bivariate\n",
    "distributions."
   ]
  },
  {
   "cell_type": "markdown",
   "id": "56799ef1",
   "metadata": {},
   "source": [
    "### Histograms"
   ]
  },
  {
   "cell_type": "markdown",
   "id": "b9c9461e",
   "metadata": {},
   "source": [
    "Staying with the penguins dataset, let's plot a histogram of the body mass:"
   ]
  },
  {
   "cell_type": "code",
   "execution_count": null,
   "id": "1d61cac6",
   "metadata": {},
   "outputs": [],
   "source": [
    "fig, ax = plt.subplots(figsize=(6, 5))\n",
    "sns.histplot(\n",
    "    data=penguins,\n",
    "    x=\"body_mass_g\",\n",
    "    bins=18,\n",
    "    ax=ax,\n",
    ")"
   ]
  },
  {
   "cell_type": "markdown",
   "id": "f826e4ac",
   "metadata": {},
   "source": [
    "The bin size can be varied using either the `binwidth` parameter or by updating\n",
    "the number of bins using the `bins` parameter."
   ]
  },
  {
   "cell_type": "markdown",
   "id": "1ccc5149",
   "metadata": {},
   "source": [
    "As with scatter plots, we can use `hue` to split the histogram by some\n",
    "variable:"
   ]
  },
  {
   "cell_type": "code",
   "execution_count": null,
   "id": "1c44c1b6",
   "metadata": {},
   "outputs": [],
   "source": [
    "fig, ax = plt.subplots(figsize=(6, 5))\n",
    "sns.histplot(\n",
    "    data=penguins,\n",
    "    x=\"body_mass_g\",\n",
    "    bins=18,\n",
    "    hue=\"species\",\n",
    "    ax=ax,\n",
    ")"
   ]
  },
  {
   "cell_type": "markdown",
   "id": "cd9c5ff3",
   "metadata": {},
   "source": [
    "We now have several overlapping histograms and the readability could be\n",
    "improved.\n",
    "\n",
    "One option is to use a stepped histogram by setting `element=\"step\"`:"
   ]
  },
  {
   "cell_type": "code",
   "execution_count": null,
   "id": "9e004bc2",
   "metadata": {},
   "outputs": [],
   "source": [
    "fig, ax = plt.subplots(figsize=(6, 5))\n",
    "sns.histplot(\n",
    "    data=penguins,\n",
    "    x=\"body_mass_g\",\n",
    "    bins=18,\n",
    "    hue=\"species\",\n",
    "    element=\"step\",\n",
    "    ax=ax,\n",
    ")"
   ]
  },
  {
   "cell_type": "markdown",
   "id": "4b1d0705",
   "metadata": {},
   "source": [
    "It's now a bit easier to visually discern the histograms from one another."
   ]
  },
  {
   "cell_type": "markdown",
   "id": "5bb6b090",
   "metadata": {},
   "source": [
    "### Kernel density estimation"
   ]
  },
  {
   "cell_type": "markdown",
   "id": "938d3936",
   "metadata": {},
   "source": [
    "Kernel density estimation (KDE) is used to obtain a continuous estimate of a\n",
    "distribution by smoothing histogram counts using a Gaussian kernel.\n",
    "\n",
    "We can generate such a plot using the `kdeplot()` function:"
   ]
  },
  {
   "cell_type": "code",
   "execution_count": null,
   "id": "ab26d3b2",
   "metadata": {},
   "outputs": [],
   "source": [
    "fig, ax = plt.subplots(figsize=(6, 5))\n",
    "sns.kdeplot(\n",
    "    data=penguins,\n",
    "    x=\"body_mass_g\",\n",
    "    hue=\"species\",\n",
    "    bw_adjust=1,\n",
    "    ax=ax,\n",
    ")"
   ]
  },
  {
   "cell_type": "markdown",
   "id": "3fc04265",
   "metadata": {},
   "source": [
    "The granularity of the estimated density is controlled by the bandwidth of the\n",
    "Gaussian kernel.\n",
    "\n",
    "This can be adjusted with the `bw_adjust` parameter."
   ]
  },
  {
   "cell_type": "markdown",
   "id": "931abf22",
   "metadata": {},
   "source": [
    "A high bandwidth could result in over-smoothing, erasing important features.\n",
    "\n",
    "A low bandwidth risks representing random variation as features:"
   ]
  },
  {
   "cell_type": "code",
   "execution_count": null,
   "id": "babbcead",
   "metadata": {},
   "outputs": [],
   "source": [
    "fig, ax = plt.subplots(figsize=(6, 5))\n",
    "sns.kdeplot(\n",
    "    data=penguins,\n",
    "    x=\"body_mass_g\",\n",
    "    hue=\"species\",\n",
    "    bw_adjust=0.25,\n",
    "    ax=ax,\n",
    ")"
   ]
  },
  {
   "cell_type": "markdown",
   "id": "cfc1a7b6",
   "metadata": {},
   "source": [
    "The KDE calculation assumes our data is continuous and unbounded."
   ]
  },
  {
   "cell_type": "markdown",
   "id": "f10c3122",
   "metadata": {},
   "source": [
    "If, for example, it is unrealistic to have values below 0, we can set `cut=0`\n",
    "when calling `kdeplot()`.\n",
    "\n",
    "This will ensure that the KDE only spans positive values."
   ]
  },
  {
   "cell_type": "markdown",
   "id": "f661e1d5",
   "metadata": {},
   "source": [
    "It is possible to plot a histogram and KDE together by setting `kde=True` when\n",
    "calling `histplot()`:"
   ]
  },
  {
   "cell_type": "code",
   "execution_count": null,
   "id": "2963b65d",
   "metadata": {
    "lines_to_next_cell": 2
   },
   "outputs": [],
   "source": [
    "fig, ax = plt.subplots(figsize=(6, 5))\n",
    "sns.histplot(\n",
    "    data=penguins,\n",
    "    x=\"body_mass_g\",\n",
    "    bins=18,\n",
    "    hue=\"species\",\n",
    "    element=\"step\",\n",
    "    kde=True,\n",
    "    ax=ax,\n",
    ")"
   ]
  },
  {
   "cell_type": "markdown",
   "id": "cc3f01c1",
   "metadata": {},
   "source": [
    "### Bivariate distributions"
   ]
  },
  {
   "cell_type": "markdown",
   "id": "8bfe7ec2",
   "metadata": {},
   "source": [
    "We now consider bivariate distributions, where we plot the 2-dimensional\n",
    "distributions of pairs of variables.\n",
    "\n",
    "This is a great way to visualise the spread of data and to assess correlation\n",
    "between variables."
   ]
  },
  {
   "cell_type": "markdown",
   "id": "9bb1448c",
   "metadata": {},
   "source": [
    "To create such a plot in Seaborn, take the code we've been using to create\n",
    "histograms and include a `y` variable:"
   ]
  },
  {
   "cell_type": "code",
   "execution_count": null,
   "id": "ee2e9dc4",
   "metadata": {},
   "outputs": [],
   "source": [
    "fig, ax = plt.subplots(figsize=(5, 5))\n",
    "sns.histplot(\n",
    "    data=penguins,\n",
    "    x=\"body_mass_g\",\n",
    "    y=\"flipper_length_mm\",\n",
    "    ax=ax,\n",
    ")"
   ]
  },
  {
   "cell_type": "markdown",
   "id": "16c7eea7",
   "metadata": {},
   "source": [
    "We see immediately that the two variables are correlated.\n",
    "\n",
    "Darker shades represent areas of higher density.\n",
    "\n",
    "A colourbar showing the mapping between counts and colour intensity can be\n",
    "added with `cbar=True`:"
   ]
  },
  {
   "cell_type": "code",
   "execution_count": null,
   "id": "453b3687",
   "metadata": {},
   "outputs": [],
   "source": [
    "fig, ax = plt.subplots(figsize=(5, 5))\n",
    "sns.histplot(\n",
    "    data=penguins,\n",
    "    x=\"body_mass_g\",\n",
    "    y=\"flipper_length_mm\",\n",
    "    cbar=True,\n",
    "    ax=ax,\n",
    ")"
   ]
  },
  {
   "cell_type": "markdown",
   "id": "4e69dcb6",
   "metadata": {},
   "source": [
    "We can vary the size of the 2D bins using the `binwidth` argument, which\n",
    "accepts a length-2 tuple `(x, y)`.\n",
    "\n",
    "For example, `binwidth=(200, 3)` would generate bins with width 200 and height\n",
    "3."
   ]
  },
  {
   "cell_type": "markdown",
   "id": "c6af0ed6",
   "metadata": {},
   "source": [
    "Let's display a KDE instead, which for a 2D distribution appears as\n",
    "contours:"
   ]
  },
  {
   "cell_type": "code",
   "execution_count": null,
   "id": "b60f981e",
   "metadata": {},
   "outputs": [],
   "source": [
    "fig, ax = plt.subplots(figsize=(5, 5))\n",
    "sns.kdeplot(\n",
    "    data=penguins,\n",
    "    x=\"body_mass_g\",\n",
    "    y=\"flipper_length_mm\",\n",
    "    ax=ax,\n",
    ")"
   ]
  },
  {
   "cell_type": "markdown",
   "id": "2b97852d",
   "metadata": {},
   "source": [
    "Each contour is drawn at an *iso-proportion* of the density, meaning that it\n",
    "traces a boundary of constant density. \n",
    "\n",
    "The levels are chosen such that the *mass* outside the contour is a particular\n",
    "fraction of the total mass."
   ]
  },
  {
   "cell_type": "markdown",
   "id": "9d9551a9",
   "metadata": {},
   "source": [
    "The levels can be specified explicitly using the `levels` argument.\n",
    "\n",
    "The following will draw a KDE plot with levels 1% (outermost contour), 10%, 50%,\n",
    "and 80% (innermost contours)."
   ]
  },
  {
   "cell_type": "code",
   "execution_count": null,
   "id": "14934979",
   "metadata": {
    "lines_to_next_cell": 2
   },
   "outputs": [],
   "source": [
    "fig, ax = plt.subplots(figsize=(5, 5))\n",
    "sns.kdeplot(\n",
    "    data=penguins,\n",
    "    x=\"body_mass_g\",\n",
    "    y=\"flipper_length_mm\",\n",
    "    levels=[0.01, 0.1, 0.5, 0.8],\n",
    "    ax=ax,\n",
    ")"
   ]
  },
  {
   "cell_type": "markdown",
   "id": "eaa42967",
   "metadata": {},
   "source": [
    "## Exercises Q2"
   ]
  },
  {
   "cell_type": "markdown",
   "id": "ee0ddb0d",
   "metadata": {},
   "source": [
    "Please complete *Q2* of [this exercise sheet](2-exercises.ipynb#Q2\\))"
   ]
  },
  {
   "cell_type": "markdown",
   "id": "cb6b3aca",
   "metadata": {},
   "source": [
    "## 2.3 Categorical data"
   ]
  },
  {
   "cell_type": "markdown",
   "id": "d15742cc",
   "metadata": {},
   "source": [
    "We have previously visualised categorical variables using colours, shapes and\n",
    "sizes."
   ]
  },
  {
   "cell_type": "markdown",
   "id": "132cfeba",
   "metadata": {},
   "source": [
    "Here we consider some plot types that are specific to categorical data."
   ]
  },
  {
   "cell_type": "markdown",
   "id": "43b037db",
   "metadata": {},
   "source": [
    "We can use `swarmplot()` to create a scatter visualisation of flipper length\n",
    "vs the categorical species variable:"
   ]
  },
  {
   "cell_type": "code",
   "execution_count": null,
   "id": "63c2888f",
   "metadata": {},
   "outputs": [],
   "source": [
    "fig, ax = plt.subplots(figsize=(5, 5))\n",
    "sns.swarmplot(\n",
    "    data=penguins,\n",
    "    x=\"species\",\n",
    "    y=\"flipper_length_mm\",\n",
    "    hue=\"sex\",\n",
    "    size=4,\n",
    "    ax=ax,\n",
    ")"
   ]
  },
  {
   "cell_type": "markdown",
   "id": "b7549b48",
   "metadata": {},
   "source": [
    "Data points are shifted horizontally such that there is no overlap.\n",
    "\n",
    "This gives an idea of the distribution of the data in each category."
   ]
  },
  {
   "cell_type": "markdown",
   "id": "6fac42df",
   "metadata": {},
   "source": [
    "If we are primarily interested in the spread of the points, we could\n",
    "instead use a box plot:"
   ]
  },
  {
   "cell_type": "code",
   "execution_count": null,
   "id": "faf52911",
   "metadata": {},
   "outputs": [],
   "source": [
    "fig, ax = plt.subplots(figsize=(5, 5))\n",
    "sns.boxplot(\n",
    "    data=penguins,\n",
    "    x=\"species\",\n",
    "    y=\"flipper_length_mm\",\n",
    "    hue=\"sex\",\n",
    "    ax=ax,\n",
    ")"
   ]
  },
  {
   "cell_type": "markdown",
   "id": "2d987847",
   "metadata": {},
   "source": [
    "Box plots display:\n",
    "\n",
    "  - the median (central horizontal line);\n",
    "   \n",
    "  - the interquartile range (span of the box);\n",
    "   \n",
    "  - the min/max values excluding outliers (tips of the whiskers), and\n",
    "\n",
    "  - any outliers (data points outside whiskers)."
   ]
  },
  {
   "cell_type": "markdown",
   "id": "6ca1833b",
   "metadata": {},
   "source": [
    "We can also create bar plots!"
   ]
  },
  {
   "cell_type": "markdown",
   "id": "ce469d1a",
   "metadata": {},
   "source": [
    "We will demonstrate an example using the flights data set:"
   ]
  },
  {
   "cell_type": "code",
   "execution_count": null,
   "id": "d32002a6",
   "metadata": {},
   "outputs": [],
   "source": [
    "flights = sns.load_dataset(\"flights\")\n",
    "flights.head()"
   ]
  },
  {
   "cell_type": "markdown",
   "id": "b951a06d",
   "metadata": {},
   "source": [
    "This dataset shows the number of passengers each month over a 12 year period."
   ]
  },
  {
   "cell_type": "markdown",
   "id": "dbb52822",
   "metadata": {},
   "source": [
    "We can create a bar plot showing the number of passengers each month:"
   ]
  },
  {
   "cell_type": "code",
   "execution_count": null,
   "id": "215d19b1",
   "metadata": {},
   "outputs": [],
   "source": [
    "fig, ax = plt.subplots(figsize=(8, 5))\n",
    "sns.barplot(\n",
    "    data=flights,\n",
    "    x=\"month\",\n",
    "    y=\"passengers\",\n",
    "    ax=ax,\n",
    ")"
   ]
  },
  {
   "cell_type": "markdown",
   "id": "460ae0ff",
   "metadata": {},
   "source": [
    "This operates on the entire data set, providing:\n",
    "\n",
    "- an estimate of the mean for each category\n",
    "\n",
    "- an error bar displaying the variation about the mean."
   ]
  },
  {
   "cell_type": "markdown",
   "id": "12968d64",
   "metadata": {},
   "source": [
    "Bar plots are a good choice if you wish to compare to the value 0, which is\n",
    "included in the axis range."
   ]
  },
  {
   "cell_type": "markdown",
   "id": "8685968f",
   "metadata": {},
   "source": [
    "## 2.4 Multi-panel plots"
   ]
  },
  {
   "cell_type": "markdown",
   "id": "5a0c33db",
   "metadata": {},
   "source": [
    "We've covered a lot of plots in this chapter!\n",
    "\n",
    "It may feel a bit overwhelming at first.\n",
    "\n",
    "However, the plotting functions all accept similar inputs (`x`, `y`, `data`,\n",
    "`hue`, etc).\n",
    "\n",
    "As such, it should start feeling more intuitive  after a bit of practice."
   ]
  },
  {
   "cell_type": "markdown",
   "id": "2fc9e813",
   "metadata": {},
   "source": [
    "To finish, we will look at how to construct complex multi-panel figures with\n",
    "Seaborn."
   ]
  },
  {
   "cell_type": "markdown",
   "id": "60c5a343",
   "metadata": {},
   "source": [
    "### Facet grids"
   ]
  },
  {
   "cell_type": "markdown",
   "id": "e6d9bb55",
   "metadata": {},
   "source": [
    "Facet grids can be used to construct multiple plots using subsets of a\n",
    "dataset, split on the values of variables."
   ]
  },
  {
   "cell_type": "markdown",
   "id": "7ab25ce9",
   "metadata": {},
   "source": [
    "Let's take our distribution of penguin body mass example from earlier, and\n",
    "create multiple panels based on sex and species using `FacetGrid()`:"
   ]
  },
  {
   "cell_type": "code",
   "execution_count": null,
   "id": "aa210add",
   "metadata": {},
   "outputs": [],
   "source": [
    "g = sns.FacetGrid(\n",
    "    data=penguins,\n",
    "    row=\"sex\",\n",
    "    col=\"species\",\n",
    ")"
   ]
  },
  {
   "cell_type": "markdown",
   "id": "f7ab48af",
   "metadata": {},
   "source": [
    "`FacetGrid()` creates a `FacetGrid` object.\n",
    "\n",
    "Here we made two rows (for Male and Female) and three columns (for Adelie,\n",
    "Chinstrap and Gentoo)."
   ]
  },
  {
   "cell_type": "markdown",
   "id": "18521295",
   "metadata": {},
   "source": [
    "Next, we map plots onto our panels with `FacetGrid`'s `.map()` method.\n",
    "\n",
    "The first input of `.map()` will be the name of the plotting function to use,\n",
    "followed by the inputs we would use if calling that function on its own:\n"
   ]
  },
  {
   "cell_type": "code",
   "execution_count": null,
   "id": "730cef98",
   "metadata": {},
   "outputs": [],
   "source": [
    "g = sns.FacetGrid(\n",
    "    data=penguins,\n",
    "    row=\"sex\",\n",
    "    col=\"species\",\n",
    ").map(\n",
    "    sns.histplot,\n",
    "    \"body_mass_g\",\n",
    "    element=\"step\",\n",
    ")"
   ]
  },
  {
   "cell_type": "markdown",
   "id": "6105ba92",
   "metadata": {},
   "source": [
    "_NB. At the time of writing, the code chunk above produces a `FutureWarning` about\n",
    "a deprecation of `iteritems`. The seaborn developers are aware of this\n",
    "issue, which you can track [here](https://github.com/mwaskom/seaborn/issues/3093)_.\n",
    "\n",
    "_You can disable this warning with:_"
   ]
  },
  {
   "cell_type": "code",
   "execution_count": null,
   "id": "d0678a61",
   "metadata": {},
   "outputs": [],
   "source": [
    "import warnings\n",
    "\n",
    "warnings.filterwarnings(\"ignore\", message=\"iteritems is deprecated\")"
   ]
  },
  {
   "cell_type": "markdown",
   "id": "ffe668f9",
   "metadata": {},
   "source": [
    "We don't _have to_ use multiple columns and rows.\n",
    "\n",
    "For example, we could have used a single column and coloured by species with\n",
    "`hue`:"
   ]
  },
  {
   "cell_type": "code",
   "execution_count": null,
   "id": "3a372ad6",
   "metadata": {},
   "outputs": [],
   "source": [
    "g = sns.FacetGrid(\n",
    "    data=penguins,\n",
    "    row=\"sex\",\n",
    "    hue=\"species\",\n",
    ").map(\n",
    "    sns.histplot,\n",
    "    \"body_mass_g\",\n",
    "    element=\"step\",\n",
    ").add_legend()"
   ]
  },
  {
   "cell_type": "markdown",
   "id": "fd843f2a",
   "metadata": {},
   "source": [
    "In this case, we have used `.add_legend()` to include a species legend."
   ]
  },
  {
   "cell_type": "markdown",
   "id": "1016c16f",
   "metadata": {},
   "source": [
    "### Pair grids"
   ]
  },
  {
   "cell_type": "markdown",
   "id": "af65bec1",
   "metadata": {},
   "source": [
    "Pair plots are used to show the relationships between every combination of two\n",
    "variables in a data set."
   ]
  },
  {
   "cell_type": "markdown",
   "id": "7a91960b",
   "metadata": {},
   "source": [
    "In Seaborn, they can be created by defining a `PairGrid` object:"
   ]
  },
  {
   "cell_type": "code",
   "execution_count": null,
   "id": "49f32040",
   "metadata": {},
   "outputs": [],
   "source": [
    "g = sns.PairGrid(data=penguins, diag_sharey=False)"
   ]
  },
  {
   "cell_type": "markdown",
   "id": "79d24730",
   "metadata": {},
   "source": [
    "The dataset is supplied to the `data` argument in `PairGrid()`."
   ]
  },
  {
   "cell_type": "markdown",
   "id": "fcc982ab",
   "metadata": {},
   "source": [
    "`PairGrid` defines the methods:\n",
    "\n",
    "- `.map_diag()`, to fill all _diagonal panels_ in a pair grid\n",
    "\n",
    "- `.map_upper()` and `.map_lower()`, to fill the panels _above and below_ the\n",
    "  diagonal\n",
    "\n",
    "- A few other methods not shown here: eg. (`.map_offdiag()` and `.map()`)."
   ]
  },
  {
   "cell_type": "markdown",
   "id": "afcbdf37",
   "metadata": {},
   "source": [
    "We can use these methods by providing the plotting function to use in each\n",
    "case:"
   ]
  },
  {
   "cell_type": "code",
   "execution_count": null,
   "id": "4db08fac",
   "metadata": {},
   "outputs": [],
   "source": [
    "g = (\n",
    "    sns.PairGrid(data=penguins, diag_sharey=False)\n",
    "    .map_upper(sns.scatterplot)\n",
    "    .map_lower(sns.kdeplot)\n",
    "    .map_diag(sns.kdeplot)\n",
    ")"
   ]
  },
  {
   "cell_type": "markdown",
   "id": "b1c20e95",
   "metadata": {},
   "source": [
    "Above, we:\n",
    "\n",
    "- selected KDE plots for the diagonal and lower panels, and\n",
    " \n",
    "- scatter plots for the upper panels. "
   ]
  },
  {
   "cell_type": "markdown",
   "id": "67ef9e26",
   "metadata": {},
   "source": [
    "Setting `diag_sharey=False` ensures KDEs on the diagonal use the full height of\n",
    "the vertical axis, as the axes will not be shared with the other panels."
   ]
  },
  {
   "cell_type": "markdown",
   "id": "ec053de5",
   "metadata": {},
   "source": [
    "We can also colour the data by one of our categorical variables using `hue`:"
   ]
  },
  {
   "cell_type": "code",
   "execution_count": null,
   "id": "7612d184",
   "metadata": {
    "lines_to_next_cell": 2
   },
   "outputs": [],
   "source": [
    "g = (\n",
    "    sns.PairGrid(\n",
    "        data=penguins,\n",
    "        diag_sharey=False,\n",
    "        hue=\"species\",\n",
    "    )\n",
    "    .map_upper(sns.scatterplot)\n",
    "    .map_lower(sns.kdeplot)\n",
    "    .map_diag(sns.kdeplot)\n",
    "    .add_legend()\n",
    ")"
   ]
  },
  {
   "cell_type": "markdown",
   "id": "488dae64",
   "metadata": {},
   "source": [
    "You may only wish to show a single type of plot in the off-diagonal elements.\n",
    "\n",
    "You could do so by creating a corner plot with `corner=True` and filling only\n",
    "lower panels:"
   ]
  },
  {
   "cell_type": "code",
   "execution_count": null,
   "id": "af43e6b8",
   "metadata": {
    "lines_to_next_cell": 2
   },
   "outputs": [],
   "source": [
    "g = (\n",
    "    sns.PairGrid(\n",
    "        data=penguins,\n",
    "        diag_sharey=False,\n",
    "        hue=\"species\",\n",
    "        corner=True,\n",
    "    )\n",
    "    .map_lower(sns.kdeplot)\n",
    "    .map_diag(sns.kdeplot)\n",
    "    .add_legend()\n",
    ")"
   ]
  },
  {
   "cell_type": "markdown",
   "id": "a78c2f0d",
   "metadata": {},
   "source": [
    "### Customising multi-panel figures"
   ]
  },
  {
   "cell_type": "markdown",
   "id": "07c97bd7",
   "metadata": {},
   "source": [
    "Customisation of `FacetGrid` and `PairGrid` figures is more complicated. "
   ]
  },
  {
   "cell_type": "markdown",
   "id": "f571ff91",
   "metadata": {},
   "source": [
    "There is no option to pass a matplotlib `Axes` when creating these plots\n",
    "(unlike the functions seen earlier).\n",
    "\n",
    "This is because `FacetGrid()` and `PairGrid()` initialise a matplotlib figure\n",
    "internally."
   ]
  },
  {
   "cell_type": "markdown",
   "id": "3d23b281",
   "metadata": {},
   "source": [
    "But we need to access these `Figure` and `Axes` objects before we can customise\n",
    "our plots as earlier.\n",
    "\n",
    "For `FacetGrid` and `PairGrid` objects, the `Figure` and `Axes` objects can be\n",
    "accessed with the `.figure` and `.axes` attributes:"
   ]
  },
  {
   "cell_type": "code",
   "execution_count": null,
   "id": "b0b4e98a",
   "metadata": {},
   "outputs": [],
   "source": [
    "g = sns.FacetGrid(\n",
    "    data=penguins,\n",
    "    row=\"sex\",\n",
    "    col=\"species\",\n",
    ").map(\n",
    "    sns.histplot,\n",
    "    \"body_mass_g\",\n",
    "    element=\"step\",\n",
    ")\n",
    "\n",
    "fig, ax = g.figure, g.axes\n",
    "for i in range(3):\n",
    "    ax[1, i].set_xlabel(\"Body mass [g]\")\n",
    "fig.savefig(\"grid.pdf\")"
   ]
  },
  {
   "cell_type": "markdown",
   "id": "a9559f06",
   "metadata": {},
   "source": [
    "Above we have created the 2-by-3 `FacetGrid` from earlier, then edited the axis\n",
    "labels and saved the figure using matplotlib code."
   ]
  },
  {
   "cell_type": "markdown",
   "id": "19bb5486",
   "metadata": {},
   "source": [
    "## Exercises Q3"
   ]
  },
  {
   "cell_type": "markdown",
   "id": "5f413dc1",
   "metadata": {},
   "source": [
    "Please complete *Q3* of [this exercise sheet](2-exercises.ipynb#Q3\\))"
   ]
  },
  {
   "cell_type": "markdown",
   "id": "52bc9aeb",
   "metadata": {},
   "source": [
    "After this course, we strongly recommend reading \n",
    "[Seaborn's fantastic plotting tutorials](https://seaborn.pydata.org/tutorial.html).\n",
    "\n",
    "These cover all the functions discussed in this chapter in more depth."
   ]
  },
  {
   "cell_type": "markdown",
   "id": "0317800b",
   "metadata": {},
   "source": [
    "[Download Course Content >>>](../chapter2/2-demo_download.ipynb)"
   ]
  },
  {
   "cell_type": "markdown",
   "id": "44af5e44",
   "metadata": {},
   "source": [
    "## Bonus: Exercises Q4\n",
    "\n",
    "If you fancy an extra challenge, try *Q4* of \n",
    "[this exercise sheet](2-exercises.ipynb#Q4\\))\n"
   ]
  }
 ],
 "metadata": {
  "jupytext": {
   "cell_metadata_filter": "-all",
   "main_language": "python",
   "notebook_metadata_filter": "-all"
  }
 },
 "nbformat": 4,
 "nbformat_minor": 5
}
